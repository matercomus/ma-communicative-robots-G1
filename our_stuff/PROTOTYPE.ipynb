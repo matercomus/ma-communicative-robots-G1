{
  "cells": [
    {
      "cell_type": "code",
      "execution_count": null,
      "metadata": {
        "id": "bKyTg5PUY6WL",
        "outputId": "adea133b-6552-4a42-dd96-a82da6f5513f"
      },
      "outputs": [
        {
          "name": "stdout",
          "output_type": "stream",
          "text": [
            "/home/matt/Dev/ma-communicative-robots-G1/combots-venv-new/bin/python\n"
          ]
        }
      ],
      "source": [
        "import sys\n",
        "\n",
        "print(sys.executable)"
      ]
    },
    {
      "cell_type": "markdown",
      "metadata": {
        "id": "DslEWtJc7P9C"
      },
      "source": [
        "# SETUP"
      ]
    },
    {
      "cell_type": "code",
      "execution_count": null,
      "metadata": {
        "id": "ca_8Nxy6MFbt",
        "outputId": "e2a505de-5805-4e88-e8f1-68c3413aba80"
      },
      "outputs": [
        {
          "name": "stdout",
          "output_type": "stream",
          "text": [
            "Requirement already satisfied: cltl.combot in /home/matt/Dev/ma-communicative-robots-G1/combots-venv-new/lib/python3.12/site-packages (1.1.0)\n",
            "Requirement already satisfied: emissor in /home/matt/Dev/ma-communicative-robots-G1/combots-venv-new/lib/python3.12/site-packages (from cltl.combot) (0.0.dev6)\n",
            "Requirement already satisfied: numpy~=1.20 in /home/matt/Dev/ma-communicative-robots-G1/combots-venv-new/lib/python3.12/site-packages (from emissor->cltl.combot) (1.26.4)\n",
            "Requirement already satisfied: marshmallow~=3.11 in /home/matt/Dev/ma-communicative-robots-G1/combots-venv-new/lib/python3.12/site-packages (from emissor->cltl.combot) (3.23.1)\n",
            "Requirement already satisfied: marshmallow-dataclass~=8.4 in /home/matt/Dev/ma-communicative-robots-G1/combots-venv-new/lib/python3.12/site-packages (from emissor->cltl.combot) (8.6.1)\n",
            "Requirement already satisfied: marshmallow-enum~=1.5 in /home/matt/Dev/ma-communicative-robots-G1/combots-venv-new/lib/python3.12/site-packages (from emissor->cltl.combot) (1.5.1)\n",
            "Requirement already satisfied: marshmallow-union~=0.1 in /home/matt/Dev/ma-communicative-robots-G1/combots-venv-new/lib/python3.12/site-packages (from emissor->cltl.combot) (0.1.15.post1)\n",
            "Requirement already satisfied: rdflib~=6.0 in /home/matt/Dev/ma-communicative-robots-G1/combots-venv-new/lib/python3.12/site-packages (from emissor->cltl.combot) (6.3.2)\n",
            "Requirement already satisfied: simplejson~=3.17 in /home/matt/Dev/ma-communicative-robots-G1/combots-venv-new/lib/python3.12/site-packages (from emissor->cltl.combot) (3.19.3)\n",
            "Requirement already satisfied: typeguard~=2.13 in /home/matt/Dev/ma-communicative-robots-G1/combots-venv-new/lib/python3.12/site-packages (from emissor->cltl.combot) (2.13.3)\n",
            "Requirement already satisfied: packaging>=17.0 in /home/matt/Dev/ma-communicative-robots-G1/combots-venv-new/lib/python3.12/site-packages (from marshmallow~=3.11->emissor->cltl.combot) (24.2)\n",
            "Requirement already satisfied: typing-inspect<1.0,>=0.8.0 in /home/matt/Dev/ma-communicative-robots-G1/combots-venv-new/lib/python3.12/site-packages (from marshmallow-dataclass~=8.4->emissor->cltl.combot) (0.9.0)\n",
            "Requirement already satisfied: isodate<0.7.0,>=0.6.0 in /home/matt/Dev/ma-communicative-robots-G1/combots-venv-new/lib/python3.12/site-packages (from rdflib~=6.0->emissor->cltl.combot) (0.6.1)\n",
            "Requirement already satisfied: pyparsing<4,>=2.1.0 in /home/matt/Dev/ma-communicative-robots-G1/combots-venv-new/lib/python3.12/site-packages (from rdflib~=6.0->emissor->cltl.combot) (3.2.0)\n",
            "Requirement already satisfied: six in /home/matt/Dev/ma-communicative-robots-G1/combots-venv-new/lib/python3.12/site-packages (from isodate<0.7.0,>=0.6.0->rdflib~=6.0->emissor->cltl.combot) (1.16.0)\n",
            "Requirement already satisfied: mypy-extensions>=0.3.0 in /home/matt/Dev/ma-communicative-robots-G1/combots-venv-new/lib/python3.12/site-packages (from typing-inspect<1.0,>=0.8.0->marshmallow-dataclass~=8.4->emissor->cltl.combot) (1.0.0)\n",
            "Requirement already satisfied: typing-extensions>=3.7.4 in /home/matt/Dev/ma-communicative-robots-G1/combots-venv-new/lib/python3.12/site-packages (from typing-inspect<1.0,>=0.8.0->marshmallow-dataclass~=8.4->emissor->cltl.combot) (4.12.2)\n",
            "\n",
            "\u001b[1m[\u001b[0m\u001b[34;49mnotice\u001b[0m\u001b[1;39;49m]\u001b[0m\u001b[39;49m A new release of pip is available: \u001b[0m\u001b[31;49m24.2\u001b[0m\u001b[39;49m -> \u001b[0m\u001b[32;49m24.3.1\u001b[0m\n",
            "\u001b[1m[\u001b[0m\u001b[34;49mnotice\u001b[0m\u001b[1;39;49m]\u001b[0m\u001b[39;49m To update, run: \u001b[0m\u001b[32;49mpython -m pip install --upgrade pip\u001b[0m\n",
            "Note: you may need to restart the kernel to use updated packages.\n",
            "Requirement already satisfied: python-dotenv in /home/matt/Dev/ma-communicative-robots-G1/combots-venv-new/lib/python3.12/site-packages (1.0.1)\n",
            "\n",
            "\u001b[1m[\u001b[0m\u001b[34;49mnotice\u001b[0m\u001b[1;39;49m]\u001b[0m\u001b[39;49m A new release of pip is available: \u001b[0m\u001b[31;49m24.2\u001b[0m\u001b[39;49m -> \u001b[0m\u001b[32;49m24.3.1\u001b[0m\n",
            "\u001b[1m[\u001b[0m\u001b[34;49mnotice\u001b[0m\u001b[1;39;49m]\u001b[0m\u001b[39;49m To update, run: \u001b[0m\u001b[32;49mpython -m pip install --upgrade pip\u001b[0m\n",
            "Note: you may need to restart the kernel to use updated packages.\n"
          ]
        }
      ],
      "source": [
        "# Matt\n",
        "import os\n",
        "import sys\n",
        "\n",
        "# sys.path.append(os.path.abspath('../combots-venv-new/lib/python3.12/site-packages'))\n",
        "%pip install cltl.combot --break-system-packages\n",
        "%pip install python-dotenv\n",
        "from dotenv import load_dotenv\n",
        "\n",
        "# Get the current working directory\n",
        "current_dir = os.getcwd()\n",
        "# Construct the relative path to the .env file\n",
        "env_path = os.path.join(current_dir, \"../.env\")\n",
        "# Load the .env file\n",
        "load_dotenv(env_path)\n",
        "\n",
        "\n",
        "# OpenAI API Key\n",
        "api_key = os.getenv(\"OPENAI_API_KEY\")"
      ]
    },
    {
      "cell_type": "code",
      "execution_count": 1,
      "metadata": {
        "colab": {
          "base_uri": "https://localhost:8080/",
          "height": 1000
        },
        "id": "gfSVLt26MFbt",
        "outputId": "40d1414e-a35e-49b2-9fcf-41e7a4f694a0",
        "scrolled": true
      },
      "outputs": [
        {
          "output_type": "stream",
          "name": "stdout",
          "text": [
            "\u001b[2K   \u001b[90m━━━━━━━━━━━━━━━━━━━━━━━━━━━━━━━━━━━━━━━━\u001b[0m \u001b[32m68.6/68.6 kB\u001b[0m \u001b[31m2.7 MB/s\u001b[0m eta \u001b[36m0:00:00\u001b[0m\n",
            "\u001b[2K   \u001b[90m━━━━━━━━━━━━━━━━━━━━━━━━━━━━━━━━━━━━━━━━\u001b[0m \u001b[32m13.2/13.2 MB\u001b[0m \u001b[31m62.3 MB/s\u001b[0m eta \u001b[36m0:00:00\u001b[0m\n",
            "\u001b[2K   \u001b[90m━━━━━━━━━━━━━━━━━━━━━━━━━━━━━━━━━━━━━━━━\u001b[0m \u001b[32m182.2/182.2 kB\u001b[0m \u001b[31m10.2 MB/s\u001b[0m eta \u001b[36m0:00:00\u001b[0m\n",
            "\u001b[?25hCollecting python-dotenv\n",
            "  Downloading python_dotenv-1.0.1-py3-none-any.whl.metadata (23 kB)\n",
            "Downloading python_dotenv-1.0.1-py3-none-any.whl (19 kB)\n",
            "Installing collected packages: python-dotenv\n",
            "Successfully installed python-dotenv-1.0.1\n",
            "Collecting cltl.combot\n",
            "  Downloading cltl.combot-1.1.0-py3-none-any.whl.metadata (13 kB)\n",
            "Collecting emissor (from cltl.combot)\n",
            "  Downloading emissor-0.0.dev6.tar.gz (347 kB)\n",
            "\u001b[2K     \u001b[90m━━━━━━━━━━━━━━━━━━━━━━━━━━━━━━━━━━━━━━━━\u001b[0m \u001b[32m347.4/347.4 kB\u001b[0m \u001b[31m5.9 MB/s\u001b[0m eta \u001b[36m0:00:00\u001b[0m\n",
            "\u001b[?25h  Preparing metadata (setup.py) ... \u001b[?25l\u001b[?25hdone\n",
            "Requirement already satisfied: numpy~=1.20 in /usr/local/lib/python3.10/dist-packages (from emissor->cltl.combot) (1.26.4)\n",
            "Collecting marshmallow~=3.11 (from emissor->cltl.combot)\n",
            "  Downloading marshmallow-3.23.1-py3-none-any.whl.metadata (7.5 kB)\n",
            "Collecting marshmallow-dataclass~=8.4 (from emissor->cltl.combot)\n",
            "  Downloading marshmallow_dataclass-8.7.1-py3-none-any.whl.metadata (12 kB)\n",
            "Collecting marshmallow-enum~=1.5 (from emissor->cltl.combot)\n",
            "  Downloading marshmallow_enum-1.5.1-py2.py3-none-any.whl.metadata (2.5 kB)\n",
            "Collecting marshmallow-union~=0.1 (from emissor->cltl.combot)\n",
            "  Downloading marshmallow_union-0.1.15.post1-py2.py3-none-any.whl.metadata (2.9 kB)\n",
            "Collecting rdflib~=6.0 (from emissor->cltl.combot)\n",
            "  Downloading rdflib-6.3.2-py3-none-any.whl.metadata (11 kB)\n",
            "Collecting simplejson~=3.17 (from emissor->cltl.combot)\n",
            "  Downloading simplejson-3.19.3-cp310-cp310-manylinux_2_5_x86_64.manylinux1_x86_64.manylinux_2_17_x86_64.manylinux2014_x86_64.whl.metadata (3.2 kB)\n",
            "Collecting typeguard~=2.13 (from emissor->cltl.combot)\n",
            "  Downloading typeguard-2.13.3-py3-none-any.whl.metadata (3.6 kB)\n",
            "Requirement already satisfied: packaging>=17.0 in /usr/local/lib/python3.10/dist-packages (from marshmallow~=3.11->emissor->cltl.combot) (24.2)\n",
            "Collecting typing-inspect>=0.9.0 (from marshmallow-dataclass~=8.4->emissor->cltl.combot)\n",
            "  Downloading typing_inspect-0.9.0-py3-none-any.whl.metadata (1.5 kB)\n",
            "INFO: pip is looking at multiple versions of marshmallow-dataclass to determine which version is compatible with other requirements. This could take a while.\n",
            "Collecting marshmallow-dataclass~=8.4 (from emissor->cltl.combot)\n",
            "  Downloading marshmallow_dataclass-8.7.0-py3-none-any.whl.metadata (12 kB)\n",
            "  Downloading marshmallow_dataclass-8.6.1-py3-none-any.whl.metadata (12 kB)\n",
            "Requirement already satisfied: typing-extensions>=4.2.0 in /usr/local/lib/python3.10/dist-packages (from marshmallow-dataclass~=8.4->emissor->cltl.combot) (4.12.2)\n",
            "Collecting isodate<0.7.0,>=0.6.0 (from rdflib~=6.0->emissor->cltl.combot)\n",
            "  Downloading isodate-0.6.1-py2.py3-none-any.whl.metadata (9.6 kB)\n",
            "Requirement already satisfied: pyparsing<4,>=2.1.0 in /usr/local/lib/python3.10/dist-packages (from rdflib~=6.0->emissor->cltl.combot) (3.2.0)\n",
            "Requirement already satisfied: six in /usr/local/lib/python3.10/dist-packages (from isodate<0.7.0,>=0.6.0->rdflib~=6.0->emissor->cltl.combot) (1.16.0)\n",
            "Collecting mypy-extensions>=0.3.0 (from typing-inspect>=0.9.0->marshmallow-dataclass~=8.4->emissor->cltl.combot)\n",
            "  Downloading mypy_extensions-1.0.0-py3-none-any.whl.metadata (1.1 kB)\n",
            "Downloading cltl.combot-1.1.0-py3-none-any.whl (49 kB)\n",
            "\u001b[2K   \u001b[90m━━━━━━━━━━━━━━━━━━━━━━━━━━━━━━━━━━━━━━━━\u001b[0m \u001b[32m49.9/49.9 kB\u001b[0m \u001b[31m4.7 MB/s\u001b[0m eta \u001b[36m0:00:00\u001b[0m\n",
            "\u001b[?25hDownloading marshmallow-3.23.1-py3-none-any.whl (49 kB)\n",
            "\u001b[2K   \u001b[90m━━━━━━━━━━━━━━━━━━━━━━━━━━━━━━━━━━━━━━━━\u001b[0m \u001b[32m49.5/49.5 kB\u001b[0m \u001b[31m4.1 MB/s\u001b[0m eta \u001b[36m0:00:00\u001b[0m\n",
            "\u001b[?25hDownloading marshmallow_dataclass-8.6.1-py3-none-any.whl (18 kB)\n",
            "Downloading marshmallow_enum-1.5.1-py2.py3-none-any.whl (4.2 kB)\n",
            "Downloading marshmallow_union-0.1.15.post1-py2.py3-none-any.whl (4.6 kB)\n",
            "Downloading rdflib-6.3.2-py3-none-any.whl (528 kB)\n",
            "\u001b[2K   \u001b[90m━━━━━━━━━━━━━━━━━━━━━━━━━━━━━━━━━━━━━━━━\u001b[0m \u001b[32m528.1/528.1 kB\u001b[0m \u001b[31m19.3 MB/s\u001b[0m eta \u001b[36m0:00:00\u001b[0m\n",
            "\u001b[?25hDownloading simplejson-3.19.3-cp310-cp310-manylinux_2_5_x86_64.manylinux1_x86_64.manylinux_2_17_x86_64.manylinux2014_x86_64.whl (137 kB)\n",
            "\u001b[2K   \u001b[90m━━━━━━━━━━━━━━━━━━━━━━━━━━━━━━━━━━━━━━━━\u001b[0m \u001b[32m137.9/137.9 kB\u001b[0m \u001b[31m13.3 MB/s\u001b[0m eta \u001b[36m0:00:00\u001b[0m\n",
            "\u001b[?25hDownloading typeguard-2.13.3-py3-none-any.whl (17 kB)\n",
            "Downloading isodate-0.6.1-py2.py3-none-any.whl (41 kB)\n",
            "\u001b[2K   \u001b[90m━━━━━━━━━━━━━━━━━━━━━━━━━━━━━━━━━━━━━━━━\u001b[0m \u001b[32m41.7/41.7 kB\u001b[0m \u001b[31m3.2 MB/s\u001b[0m eta \u001b[36m0:00:00\u001b[0m\n",
            "\u001b[?25hDownloading typing_inspect-0.9.0-py3-none-any.whl (8.8 kB)\n",
            "Downloading mypy_extensions-1.0.0-py3-none-any.whl (4.7 kB)\n",
            "Building wheels for collected packages: emissor\n",
            "  Building wheel for emissor (setup.py) ... \u001b[?25l\u001b[?25hdone\n",
            "  Created wheel for emissor: filename=emissor-0.0.dev6-py3-none-any.whl size=28072 sha256=30d9f34a492a92864fc5d60ceb17247395f397f27abd85f022480780ae3ca544\n",
            "  Stored in directory: /root/.cache/pip/wheels/6f/30/5b/e488c7a890017159ea29de3613bf92e37a1d4154db2e7b512c\n",
            "Successfully built emissor\n",
            "Installing collected packages: typeguard, simplejson, mypy-extensions, marshmallow, isodate, typing-inspect, rdflib, marshmallow-union, marshmallow-enum, marshmallow-dataclass, emissor, cltl.combot\n",
            "  Attempting uninstall: typeguard\n",
            "    Found existing installation: typeguard 4.4.1\n",
            "    Uninstalling typeguard-4.4.1:\n",
            "      Successfully uninstalled typeguard-4.4.1\n",
            "\u001b[31mERROR: pip's dependency resolver does not currently take into account all the packages that are installed. This behaviour is the source of the following dependency conflicts.\n",
            "inflect 7.4.0 requires typeguard>=4.0.1, but you have typeguard 2.13.3 which is incompatible.\u001b[0m\u001b[31m\n",
            "\u001b[0mSuccessfully installed cltl.combot-1.1.0 emissor-0.0.dev6 isodate-0.6.1 marshmallow-3.23.1 marshmallow-dataclass-8.6.1 marshmallow-enum-1.5.1 marshmallow-union-0.1.15.post1 mypy-extensions-1.0.0 rdflib-6.3.2 simplejson-3.19.3 typeguard-2.13.3 typing-inspect-0.9.0\n"
          ]
        },
        {
          "output_type": "stream",
          "name": "stderr",
          "text": [
            "WARNING:py.warnings:/usr/local/lib/python3.10/dist-packages/moviepy/video/io/sliders.py:61: SyntaxWarning: \"is\" with a literal. Did you mean \"==\"?\n",
            "  if event.key is 'enter':\n",
            "\n"
          ]
        },
        {
          "output_type": "display_data",
          "data": {
            "text/plain": [
              "<IPython.core.display.HTML object>"
            ],
            "text/html": [
              "\n",
              "            <progress value='100' max=\"100\", style='width: 100%'>\n",
              "                100\n",
              "            </progress>\n",
              "        "
            ]
          },
          "metadata": {}
        }
      ],
      "source": [
        "# Colab\n",
        "%pip install --upgrade ai2thor --quiet\n",
        "%pip install ai2thor-colab prior --upgrade &> /dev/null\n",
        "%pip install python-dotenv\n",
        "%pip install cltl.combot --break-system-packages\n",
        "import os\n",
        "\n",
        "os.system(\"apt-get install xvfb\")\n",
        "import ai2thor_colab\n",
        "\n",
        "ai2thor_colab.start_xserver()\n",
        "\n",
        "from dotenv import load_dotenv\n",
        "\n",
        "# Load the .env file\n",
        "load_dotenv()\n",
        "\n",
        "# OpenAI API Key\n",
        "api_key = os.getenv(\"OPENAI_API_KEY\")"
      ]
    },
    {
      "cell_type": "code",
      "execution_count": 2,
      "metadata": {
        "colab": {
          "base_uri": "https://localhost:8080/"
        },
        "id": "CIeQE8989ndG",
        "outputId": "7a85b407-ee16-4106-e8ec-21ecf200237d"
      },
      "outputs": [
        {
          "output_type": "stream",
          "name": "stdout",
          "text": [
            "[AI2-THOR WARNING] There has been an update to ProcTHOR-10K that must be used with AI2-THOR version 5.0+. To use the new version of ProcTHOR-10K, please update AI2-THOR to version 5.0+ by running:\n",
            "    pip install --upgrade ai2thor\n",
            "Alternatively, to downgrade to the old version of ProcTHOR-10K, run:\n",
            "   prior.load_dataset(\"procthor-10k\", revision=\"ab3cacd0fc17754d4c080a3fd50b18395fae8647\")\n"
          ]
        },
        {
          "output_type": "stream",
          "name": "stderr",
          "text": [
            "Loading train: 100%|██████████| 10000/10000 [00:05<00:00, 1712.05it/s]\n",
            "Loading val: 100%|██████████| 1000/1000 [00:00<00:00, 2657.23it/s]\n",
            "Loading test: 100%|██████████| 1000/1000 [00:00<00:00, 1709.03it/s]\n"
          ]
        },
        {
          "output_type": "execute_result",
          "data": {
            "text/plain": [
              "DatasetDict(\n",
              "    train=Dataset(\n",
              "    dataset=procthor-dataset,\n",
              "    size=10000,\n",
              "    split=train\n",
              "),\n",
              "    val=Dataset(\n",
              "    dataset=procthor-dataset,\n",
              "    size=1000,\n",
              "    split=val\n",
              "),\n",
              "    test=Dataset(\n",
              "    dataset=procthor-dataset,\n",
              "    size=1000,\n",
              "    split=test\n",
              ")\n",
              ")"
            ]
          },
          "metadata": {},
          "execution_count": 2
        }
      ],
      "source": [
        "import prior\n",
        "\n",
        "dataset = prior.load_dataset(\"procthor-10k\")\n",
        "dataset"
      ]
    },
    {
      "cell_type": "code",
      "execution_count": 3,
      "metadata": {
        "id": "cPurgiJ4U-C5"
      },
      "outputs": [],
      "source": [
        "house = dataset[\"train\"][11]  # CHOOSE HOUSE"
      ]
    },
    {
      "cell_type": "code",
      "execution_count": 4,
      "metadata": {
        "id": "1Oa8abqULvzA"
      },
      "outputs": [],
      "source": [
        "from ai2thor.controller import Controller\n",
        "from PIL import Image"
      ]
    },
    {
      "cell_type": "code",
      "execution_count": 5,
      "metadata": {
        "colab": {
          "base_uri": "https://localhost:8080/"
        },
        "id": "Xv7Vm8BzR9dU",
        "outputId": "ca589fb1-cb52-4c42-8eaf-89937e24e0d2"
      },
      "outputs": [
        {
          "output_type": "stream",
          "name": "stderr",
          "text": [
            "thor-Linux64-f0825767cd50d69f666c7f282e54abfe58f1e917.zip: [ \u001b[38;2;0;255;0m100%\u001b[39m  32.0 MiB/s]  of 769.MB\n"
          ]
        }
      ],
      "source": [
        "controller = Controller(scene=house, visibilityDistance=10, width=750, height=750)"
      ]
    },
    {
      "cell_type": "code",
      "execution_count": 6,
      "metadata": {
        "id": "w51BWkAXBrqS"
      },
      "outputs": [],
      "source": [
        "event = controller.step(action=\"GetReachablePositions\")\n",
        "reachable_positions = event.metadata[\"actionReturn\"]"
      ]
    },
    {
      "cell_type": "code",
      "execution_count": 7,
      "metadata": {
        "id": "935AYZpDCaLq"
      },
      "outputs": [],
      "source": [
        "from openaiapi import analyze_image, analyze_prompt\n",
        "from utils import numpy_to_base64\n",
        "\n",
        "frame = controller.last_event.frame\n",
        "base64_string = numpy_to_base64(frame)"
      ]
    },
    {
      "cell_type": "markdown",
      "metadata": {
        "id": "-Xr-ZujnCb_R"
      },
      "source": [
        "# FUNCTIONS"
      ]
    },
    {
      "cell_type": "code",
      "source": [
        "#init array for all the positions agent visited in case of worst case scenario\n",
        "visited_positions = []"
      ],
      "metadata": {
        "id": "1hp2-3jkbk8n"
      },
      "execution_count": 8,
      "outputs": []
    },
    {
      "cell_type": "code",
      "execution_count": 9,
      "metadata": {
        "id": "UvOXK5C2-N5v"
      },
      "outputs": [],
      "source": [
        "import math\n",
        "\n",
        "\n",
        "def teleport_in_front_of_object(\n",
        "    controller, object_position, reachable_positions, distance=1.0\n",
        "):\n",
        "    \"\"\"Teleports the agent to the closest reachable position in front of an object.\n",
        "\n",
        "    Args:\n",
        "      controller: The AI2Thor controller.\n",
        "      object_position: The position of the target object.\n",
        "      reachable_positions: A list of reachable positions in the scene.\n",
        "      distance: The desired distance in front of the object.\n",
        "\n",
        "    Returns:\n",
        "      The event after teleporting.\n",
        "    \"\"\"\n",
        "\n",
        "    # Calculate the target position in front of the object\n",
        "    target_position = {\n",
        "        \"x\": object_position[\"x\"] - distance,\n",
        "        \"y\": object_position[\"y\"],\n",
        "        \"z\": object_position[\"z\"],\n",
        "    }\n",
        "\n",
        "    # Find the closest reachable position\n",
        "    closest_position = None\n",
        "    min_distance = float(\"inf\")\n",
        "\n",
        "    for position in reachable_positions:\n",
        "        dist = math.sqrt(\n",
        "            (position[\"x\"] - target_position[\"x\"]) ** 2\n",
        "            + (position[\"z\"] - target_position[\"z\"]) ** 2\n",
        "        )\n",
        "        if dist < min_distance:\n",
        "            min_distance = dist\n",
        "            closest_position = position\n",
        "\n",
        "    # Calculate rotation towards the object\n",
        "    dx = object_position[\"x\"] - closest_position[\"x\"]\n",
        "    dz = object_position[\"z\"] - closest_position[\"z\"]\n",
        "    rotation = math.degrees(math.atan2(dx, dz))\n",
        "\n",
        "    # Teleport and rotate\n",
        "    event = controller.step(\n",
        "        action=\"Teleport\", position=closest_position, rotation=rotation\n",
        "    )\n",
        "    agent_position = controller.last_event.metadata['agent']['position']\n",
        "    visited_positions.append(agent_position)\n",
        "\n",
        "    return event  # Return the event after adjusting view angle"
      ]
    },
    {
      "cell_type": "code",
      "execution_count": 10,
      "metadata": {
        "id": "nKgXHQjzOwmK"
      },
      "outputs": [],
      "source": [
        "def get_object_positions(controller, matched_object):\n",
        "    \"\"\"\n",
        "    Finds the positions of all visible objects of a specific type.\n",
        "\n",
        "    Args:\n",
        "      controller: The AI2Thor controller.\n",
        "      matched_object: The type of object to find (e.g., \"Painting\", \"Chair\", \"Table\").\n",
        "\n",
        "    Returns:\n",
        "      A list of positions for the specified object type.\n",
        "    \"\"\"\n",
        "    visible_objects = [\n",
        "        obj for obj in controller.last_event.metadata[\"objects\"] if obj[\"visible\"]\n",
        "    ]\n",
        "    objects_of_interest = [\n",
        "        obj for obj in visible_objects if obj[\"objectType\"] == matched_object\n",
        "    ]\n",
        "    object_positions = []\n",
        "    for obj in objects_of_interest:\n",
        "        # print(obj[\"name\"], obj[\"position\"])\n",
        "        object_positions.append(obj[\"position\"])\n",
        "    return object_positions"
      ]
    },
    {
      "cell_type": "code",
      "execution_count": 11,
      "metadata": {
        "id": "pbYQyvUq6eCo"
      },
      "outputs": [],
      "source": [
        "import re\n",
        "\n",
        "\n",
        "def interactive_object_match(\n",
        "    api_key: str,\n",
        "    human_object_description: str,\n",
        "    unique_object_list: list,\n",
        "    HUMAN: str,\n",
        "    AGENT: str,\n",
        "    leolaniClient,\n",
        "):\n",
        "    \"\"\"\n",
        "    Interactively matches a human description of an object to one from a given list using an LLM.\n",
        "    The function continues to refine guesses based on user confirmation or denial.\n",
        "\n",
        "    Args:\n",
        "        api_key (str): The API key for accessing the LLM.\n",
        "        human_object_description (str): A description of the object to match.\n",
        "        unique_object_list (list): The list of unique objects to match against.\n",
        "\n",
        "    Returns:\n",
        "        str: The confirmed object from the user.\n",
        "        list: The matched object(s) from the list based on the LLM's response.\n",
        "    \"\"\"\n",
        "\n",
        "    def ask_llm(description: str, objects: list) -> str:\n",
        "        \"\"\"Helper function to query the LLM for matching the description.\"\"\"\n",
        "        object_list_str = \", \".join(objects)\n",
        "        prompt = (\n",
        "            f\"Imagine you are tasked with identifying an object from a given list based on its description. \"\n",
        "            f\"The list of objects is: {object_list_str}. \"\n",
        "            f\"Your task is to match the following description to one or more objects from the list: \\n\"\n",
        "            f\"'{description}'\\n\\n\"\n",
        "            \"If you have a single best guess, respond with: 'To be sure, would you describe your object as {object}? '\\n\"\n",
        "            \"If you are unsure and need clarification between a few options, respond with: \"\n",
        "            \"'To be sure, would you describe your object as {object1} or {object2}? '\"\n",
        "            \"Only use objects from the list.\"\n",
        "        )\n",
        "        # Make sure the response is extracted correctly from the LLM\n",
        "        llm_response = analyze_prompt(api_key=api_key, prompt=prompt)\n",
        "\n",
        "        if isinstance(llm_response, tuple):\n",
        "            llm_response = llm_response[0]\n",
        "\n",
        "        if (\n",
        "            isinstance(llm_response, list) and llm_response\n",
        "        ):  # Check if it's a non-empty list\n",
        "            llm_response = llm_response[0]  # Access the first element if it's a list\n",
        "\n",
        "        if (\n",
        "            isinstance(llm_response, dict)\n",
        "            and \"choices\" in llm_response\n",
        "            and llm_response[\"choices\"]\n",
        "        ):\n",
        "            return llm_response[\"choices\"][0][\"message\"][\"content\"]\n",
        "        return llm_response  # Return raw response if format is unexpected\n",
        "\n",
        "    current_description = human_object_description\n",
        "\n",
        "    while True:\n",
        "        # Query the LLM for a guess\n",
        "        response = ask_llm(current_description, unique_object_list)\n",
        "        leolaniClient._add_utterance(AGENT, response)\n",
        "        print(f\"{AGENT}>{response}\")\n",
        "\n",
        "        # Extract the matched object(s) from the response\n",
        "        matched_objects = re.findall(\n",
        "            r\"\\b(\" + \"|\".join(map(re.escape, unique_object_list)) + r\")\\b\", response\n",
        "        )\n",
        "\n",
        "        if matched_objects:\n",
        "            # Ask the user for confirmation or denial\n",
        "            confirmation_prompt = f\"Is this correct? (yes/no): \"\n",
        "            leolaniClient._add_utterance(AGENT, confirmation_prompt)\n",
        "            print(f\"{AGENT}>{confirmation_prompt}\")\n",
        "            user_input = input().strip().lower()\n",
        "            leolaniClient._add_utterance(HUMAN, user_input)\n",
        "            print(f\"{HUMAN}>{user_input}\")\n",
        "\n",
        "            if user_input == \"yes\":\n",
        "                success_message = \"Great! Object successfully matched.\"\n",
        "                leolaniClient._add_utterance(AGENT, success_message)\n",
        "                print(f\"{AGENT}>{success_message}\")\n",
        "                return (\n",
        "                    matched_objects[0] if len(matched_objects) == 1 else matched_objects\n",
        "                )\n",
        "            elif user_input == \"no\":\n",
        "                refine_message = \"Let's refine the search. Can you provide more details or clarify the description?\"\n",
        "                leolaniClient._add_utterance(AGENT, refine_message)\n",
        "                print(f\"{AGENT}>{refine_message}\")\n",
        "                clarifying_question = input().strip()\n",
        "                leolaniClient._add_utterance(HUMAN, clarifying_question)\n",
        "                print(f\"{HUMAN}>{clarifying_question}\")\n",
        "                current_description = (\n",
        "                    clarifying_question  # Update the description with the new input\n",
        "                )\n",
        "            else:\n",
        "                error_message = \"Please respond with 'yes' or 'no'.\"\n",
        "                leolaniClient._add_utterance(AGENT, error_message)\n",
        "                print(f\"{AGENT}>{error_message}\")\n",
        "        else:\n",
        "            error_message = (\n",
        "                \"I couldn't find a matching object. Can you provide more details?\"\n",
        "            )\n",
        "            leolaniClient._add_utterance(AGENT, error_message)\n",
        "            print(f\"{AGENT}>{error_message}\")\n",
        "            clarifying_question = input().strip()\n",
        "            leolaniClient._add_utterance(HUMAN, clarifying_question)\n",
        "            print(f\"{HUMAN}>{clarifying_question}\")\n",
        "            current_description += \" \" + clarifying_question"
      ]
    },
    {
      "cell_type": "code",
      "execution_count": 12,
      "metadata": {
        "id": "Oi4GNic-9wge"
      },
      "outputs": [],
      "source": [
        "unique_object_list = [\n",
        "    \"AlarmClock\",\n",
        "    \"AluminumFoil\",\n",
        "    \"Apple\",\n",
        "    \"ArmChair\",\n",
        "    \"BaseballBat\",\n",
        "    \"BasketBall\",\n",
        "    \"Bathtub\",\n",
        "    \"BathtubBasin\",\n",
        "    \"Bed\",\n",
        "    \"Blinds\",\n",
        "    \"Book\",\n",
        "    \"Boots\",\n",
        "    \"Bottle\",\n",
        "    \"Bowl\",\n",
        "    \"Box\",\n",
        "    \"Bread\",\n",
        "    \"ButterKnife\",\n",
        "    \"Cabinet\",\n",
        "    \"Candle\",\n",
        "    \"CD\",\n",
        "    \"CellPhone\",\n",
        "    \"Chair\",\n",
        "    \"Cloth\",\n",
        "    \"CoffeeMachine\",\n",
        "    \"CoffeeTable\",\n",
        "    \"CounterTop\",\n",
        "    \"CreditCard\",\n",
        "    \"Cup\",\n",
        "    \"Curtains\",\n",
        "    \"Desk\",\n",
        "    \"DeskLamp\",\n",
        "    \"Desktop\",\n",
        "    \"DiningTable\",\n",
        "    \"DishSponge\",\n",
        "    \"DogBed\",\n",
        "    \"Drawer\",\n",
        "    \"Dresser\",\n",
        "    \"Dumbbell\",\n",
        "    \"Egg\",\n",
        "    \"Faucet\",\n",
        "    \"Floor\",\n",
        "    \"FloorLamp\",\n",
        "    \"Footstool\",\n",
        "    \"Fork\",\n",
        "    \"Fridge\",\n",
        "    \"GarbageBag\",\n",
        "    \"GarbageCan\",\n",
        "    \"HandTowel\",\n",
        "    \"HandTowelHolder\",\n",
        "    \"HousePlant\",\n",
        "    \"Kettle\",\n",
        "    \"KeyChain\",\n",
        "    \"Knife\",\n",
        "    \"Ladle\",\n",
        "    \"Laptop\",\n",
        "    \"LaundryHamper\",\n",
        "    \"Lettuce\",\n",
        "    \"LightSwitch\",\n",
        "    \"Microwave\",\n",
        "    \"Mirror\",\n",
        "    \"Mug\",\n",
        "    \"Newspaper\",\n",
        "    \"Ottoman\",\n",
        "    \"Painting\",\n",
        "    \"Pan\",\n",
        "    \"PaperTowelRoll\",\n",
        "    \"Pen\",\n",
        "    \"Pencil\",\n",
        "    \"PepperShaker\",\n",
        "    \"Pillow\",\n",
        "    \"Plate\",\n",
        "    \"Plunger\",\n",
        "    \"Poster\",\n",
        "    \"Pot\",\n",
        "    \"Potato\",\n",
        "    \"RemoteControl\",\n",
        "    \"RoomDecor\",\n",
        "    \"Safe\",\n",
        "    \"SaltShaker\",\n",
        "    \"ScrubBrush\",\n",
        "    \"Shelf\",\n",
        "    \"ShelvingUnit\",\n",
        "    \"ShowerCurtain\",\n",
        "    \"ShowerDoor\",\n",
        "    \"ShowerGlass\",\n",
        "    \"ShowerHead\",\n",
        "    \"SideTable\",\n",
        "    \"Sink\",\n",
        "    \"SinkBasin\",\n",
        "    \"SoapBar\",\n",
        "    \"SoapBottle\",\n",
        "    \"Sofa\",\n",
        "    \"Spatula\",\n",
        "    \"Spoon\",\n",
        "    \"SprayBottle\",\n",
        "    \"Statue\",\n",
        "    \"Stool\",\n",
        "    \"StoveBurner\",\n",
        "    \"StoveKnob\",\n",
        "    \"TableTopDecor\",\n",
        "    \"TargetCircle\",\n",
        "    \"TeddyBear\",\n",
        "    \"Television\",\n",
        "    \"TennisRacket\",\n",
        "    \"TissueBox\",\n",
        "    \"Toaster\",\n",
        "    \"Toilet\",\n",
        "    \"ToiletPaper\",\n",
        "    \"ToiletPaperHanger\",\n",
        "    \"Tomato\",\n",
        "    \"Towel\",\n",
        "    \"TowelHolder\",\n",
        "    \"TVStand\",\n",
        "    \"VacuumCleaner\",\n",
        "    \"Vase\",\n",
        "    \"Watch\",\n",
        "    \"WateringCan\",\n",
        "    \"Window\",\n",
        "    \"WineBottle\",\n",
        "]"
      ]
    },
    {
      "cell_type": "markdown",
      "metadata": {
        "id": "3DNPvIi-9ndS"
      },
      "source": [
        "# Test Interaction"
      ]
    },
    {
      "cell_type": "code",
      "execution_count": 13,
      "metadata": {
        "id": "jsOTU7pCVdcA"
      },
      "outputs": [],
      "source": [
        "# adding to the system path\n",
        "import sys\n",
        "\n",
        "sys.path.insert(0, os.path.abspath(\"../emissor_chat\"))\n",
        "\n",
        "from leolani_client import Action, LeolaniChatClient\n",
        "\n",
        "emissor_path = \"./emissor\"\n",
        "AGENT = \"Ai2Thor\"\n",
        "HUMAN = \"Human\"\n",
        "leolaniClient = LeolaniChatClient(emissor_path=emissor_path, agent=AGENT, human=HUMAN)"
      ]
    },
    {
      "cell_type": "code",
      "execution_count": 14,
      "metadata": {
        "colab": {
          "base_uri": "https://localhost:8080/"
        },
        "id": "ezATi5dbMFb3",
        "outputId": "2a1dfdc6-976f-4bba-ef4c-10a0c7066a9a"
      },
      "outputs": [
        {
          "output_type": "stream",
          "name": "stdout",
          "text": [
            "Ai2Thor>Hi Human. What do you see in the room?\n"
          ]
        }
      ],
      "source": [
        "utterance = f\"Hi {HUMAN}. What do you see in the room?\"\n",
        "print(AGENT + \">\" + utterance)\n",
        "leolaniClient._add_utterance(AGENT, utterance)"
      ]
    },
    {
      "cell_type": "code",
      "execution_count": 15,
      "metadata": {
        "id": "V6jOykszMFb3"
      },
      "outputs": [],
      "source": [
        "# grab img of an item to look for\n",
        "\n",
        "# example: look for a tv in a room\n",
        "# event = controller.step(action=\"Teleport\", position={'x': 2.75, 'y': 0.9009997844696045, 'z': 1.0}  with rotation 209)\n",
        "# Image.fromarray(event.frame)"
      ]
    },
    {
      "cell_type": "code",
      "execution_count": 16,
      "metadata": {
        "id": "up-KwAtd9ndS"
      },
      "outputs": [],
      "source": [
        "human_room_description = (\n",
        "    \"there is a table. 5 chairs. wthere is a window. its probably a living room.\"\n",
        ")"
      ]
    },
    {
      "cell_type": "code",
      "execution_count": 17,
      "metadata": {
        "colab": {
          "base_uri": "https://localhost:8080/"
        },
        "id": "YyrWK2lpMFb3",
        "outputId": "f7130c6e-ac11-4bea-9417-a952afcb8ba6"
      },
      "outputs": [
        {
          "output_type": "stream",
          "name": "stdout",
          "text": [
            "Human>there is a table. 5 chairs. wthere is a window. its probably a living room.\n"
          ]
        }
      ],
      "source": [
        "print(HUMAN + \">\" + human_room_description)\n",
        "leolaniClient._add_utterance(HUMAN, human_room_description)"
      ]
    },
    {
      "cell_type": "code",
      "execution_count": 18,
      "metadata": {
        "id": "J0CAYrjg9ndT"
      },
      "outputs": [],
      "source": [
        "# claryfying questions\n",
        "claryfying_questions_response = analyze_prompt(\n",
        "    api_key=api_key,\n",
        "    model=\"gpt-4o-mini\",\n",
        "    prompt=f\"Imagine you are a robot who needs to be on a exact location as the point of view that the human has. After a while, the human can no longer see this image. The human will most likely describe a room from memory. The human will most likely describe a few objects and maybe some other attributes, like colours of objects. Your task is to ask claryfing questions about the room and objects so that you (the robot) has the highest chance of finding where the human was standing. Remember, ask the questions as if you were directly talking to the human. Try not to ask for too much details and dont ask for too much; remember, the human has to describe the image from memory, so only ask what you deem most important. \\n Human description: {human_room_description}\",\n",
        ")"
      ]
    },
    {
      "cell_type": "code",
      "execution_count": 19,
      "metadata": {
        "id": "5Qx2jJm6Y6WO",
        "outputId": "6f887255-f539-48b4-c22d-d41f49fbb0ed",
        "colab": {
          "base_uri": "https://localhost:8080/"
        }
      },
      "outputs": [
        {
          "output_type": "execute_result",
          "data": {
            "text/plain": [
              "({'id': 'chatcmpl-AagsUkFSyEdJcUeNh8AvIJ4z4X5NR',\n",
              "  'object': 'chat.completion',\n",
              "  'created': 1733307994,\n",
              "  'model': 'gpt-4o-mini-2024-07-18',\n",
              "  'choices': [{'index': 0,\n",
              "    'message': {'role': 'assistant',\n",
              "     'content': 'Thank you for the description! To help me understand the location better, can you tell me more about the table? What shape is it, and what color is it? Also, do you remember if there were any particular objects on the table?',\n",
              "     'refusal': None},\n",
              "    'logprobs': None,\n",
              "    'finish_reason': 'stop'}],\n",
              "  'usage': {'prompt_tokens': 184,\n",
              "   'completion_tokens': 49,\n",
              "   'total_tokens': 233,\n",
              "   'prompt_tokens_details': {'cached_tokens': 0, 'audio_tokens': 0},\n",
              "   'completion_tokens_details': {'reasoning_tokens': 0,\n",
              "    'audio_tokens': 0,\n",
              "    'accepted_prediction_tokens': 0,\n",
              "    'rejected_prediction_tokens': 0}},\n",
              "  'system_fingerprint': 'fp_3de1288069'},\n",
              " 1.6109418869018555)"
            ]
          },
          "metadata": {},
          "execution_count": 19
        }
      ],
      "source": [
        "claryfying_questions_response"
      ]
    },
    {
      "cell_type": "code",
      "execution_count": 20,
      "metadata": {
        "colab": {
          "base_uri": "https://localhost:8080/"
        },
        "id": "66IEJwOnMFb4",
        "outputId": "f42897ac-49f9-40fd-dd4c-1dc048c57b46"
      },
      "outputs": [
        {
          "output_type": "stream",
          "name": "stdout",
          "text": [
            "Ai2Thor>Thank you for the description! To help me understand the location better, can you tell me more about the table? What shape is it, and what color is it? Also, do you remember if there were any particular objects on the table?\n"
          ]
        }
      ],
      "source": [
        "utterance = claryfying_questions_response[0][\"choices\"][0][\"message\"][\"content\"]\n",
        "print(AGENT + \">\" + utterance)\n",
        "leolaniClient._add_utterance(AGENT, utterance)"
      ]
    },
    {
      "cell_type": "code",
      "execution_count": 21,
      "metadata": {
        "colab": {
          "base_uri": "https://localhost:8080/"
        },
        "id": "2zJDwKz1MFb4",
        "outputId": "4595be4f-16ac-4f40-91d1-a9efa7cc467e"
      },
      "outputs": [
        {
          "output_type": "stream",
          "name": "stdout",
          "text": [
            "Human>The table is blue, chairs are all black. The window is on the left wall in the same corner as th balcony doors.\n"
          ]
        }
      ],
      "source": [
        "human_room_description_clarified = \"The table is blue, chairs are all black. The window is on the left wall in the same corner as th balcony doors.\"\n",
        "print(HUMAN + \">\" + human_room_description_clarified)\n",
        "leolaniClient._add_utterance(HUMAN, human_room_description)"
      ]
    },
    {
      "cell_type": "code",
      "execution_count": 22,
      "metadata": {
        "colab": {
          "base_uri": "https://localhost:8080/"
        },
        "id": "8vn0lgHmMFb4",
        "outputId": "b8e06beb-08e5-4e3b-f70d-f4e6fa8f8965"
      },
      "outputs": [
        {
          "output_type": "stream",
          "name": "stdout",
          "text": [
            "Ai2Thor>Describe the object I should look for.\n"
          ]
        }
      ],
      "source": [
        "utterance = \"Describe the object I should look for.\"\n",
        "print(AGENT + \">\" + utterance)\n",
        "leolaniClient._add_utterance(AGENT, utterance)"
      ]
    },
    {
      "cell_type": "code",
      "execution_count": 23,
      "metadata": {
        "id": "TIhZRTY_LRUS"
      },
      "outputs": [],
      "source": [
        "human_obj_description = \"It's a dark painting with trees a moon. some clouds, a river.\""
      ]
    },
    {
      "cell_type": "code",
      "execution_count": 24,
      "metadata": {
        "colab": {
          "base_uri": "https://localhost:8080/"
        },
        "id": "zkA_CO4yMFb4",
        "outputId": "ef681e1c-77ae-4166-9ec9-2868e69506bd"
      },
      "outputs": [
        {
          "output_type": "stream",
          "name": "stdout",
          "text": [
            "Human>It's a dark painting with trees a moon. some clouds, a river.\n"
          ]
        }
      ],
      "source": [
        "print(HUMAN + \">\" + human_obj_description)\n",
        "leolaniClient._add_utterance(HUMAN, human_room_description)"
      ]
    },
    {
      "cell_type": "code",
      "execution_count": 25,
      "metadata": {
        "colab": {
          "base_uri": "https://localhost:8080/"
        },
        "id": "Jg39BgRdPE0A",
        "outputId": "e4371fcc-3a9e-40fb-9291-2d294e878884"
      },
      "outputs": [
        {
          "output_type": "stream",
          "name": "stdout",
          "text": [
            "Ai2Thor>To be sure, would you describe your object as Painting?\n",
            "Ai2Thor>Is this correct? (yes/no): \n",
            "yes\n",
            "Human>yes\n",
            "Ai2Thor>Great! Object successfully matched.\n"
          ]
        }
      ],
      "source": [
        "# this is where the interactive object match comes :\n",
        "# based on \"dark painting with trees ...\", did you mean \"Painting\"?\n",
        "\n",
        "human_object_description = human_obj_description\n",
        "matched_object = interactive_object_match(\n",
        "    api_key=api_key,\n",
        "    human_object_description=human_object_description,\n",
        "    unique_object_list=unique_object_list,\n",
        "    HUMAN=HUMAN,\n",
        "    AGENT=AGENT,\n",
        "    leolaniClient=leolaniClient,\n",
        ")"
      ]
    },
    {
      "cell_type": "code",
      "execution_count": 26,
      "metadata": {
        "id": "bDtp9MSAY6WO",
        "outputId": "fb57ee48-7cd4-4bb0-9a3d-17dbaf5fc44c",
        "colab": {
          "base_uri": "https://localhost:8080/",
          "height": 35
        }
      },
      "outputs": [
        {
          "output_type": "execute_result",
          "data": {
            "text/plain": [
              "'Painting'"
            ],
            "application/vnd.google.colaboratory.intrinsic+json": {
              "type": "string"
            }
          },
          "metadata": {},
          "execution_count": 26
        }
      ],
      "source": [
        "matched_object"
      ]
    },
    {
      "cell_type": "code",
      "execution_count": 27,
      "metadata": {
        "colab": {
          "base_uri": "https://localhost:8080/"
        },
        "id": "_Gz8CnenWUCw",
        "outputId": "1fa5cb87-4b4f-4f02-a5ab-5ba3efaec9ad"
      },
      "outputs": [
        {
          "output_type": "stream",
          "name": "stdout",
          "text": [
            "Teleporting the agent to {'x': 1.25, 'y': 0.9009997844696045, 'z': 6.0}  with rotation 300\n"
          ]
        }
      ],
      "source": [
        "# Teleport somewhere random\n",
        "import random\n",
        "\n",
        "position = random.choice(reachable_positions)\n",
        "rotation = random.choice(range(360))\n",
        "print(\"Teleporting the agent to\", position, \" with rotation\", rotation)\n",
        "\n",
        "event = controller.step(action=\"Teleport\", position=position, rotation=rotation)\n",
        "agent_position = controller.last_event.metadata['agent']['position']\n",
        "visited_positions.append(agent_position)\n",
        "\n",
        "# Image.fromarray(event.frame) # image for clearity"
      ]
    },
    {
      "cell_type": "code",
      "execution_count": 28,
      "metadata": {
        "colab": {
          "base_uri": "https://localhost:8080/"
        },
        "id": "rKq23C6qMFb4",
        "outputId": "6bda04f2-dbc5-489b-da32-53fd92934a21"
      },
      "outputs": [
        {
          "output_type": "stream",
          "name": "stdout",
          "text": [
            "Ai2Thor>Scanning room.\n",
            "\n",
            "Features detected:\n",
            "- Blue table.\n",
            "- Five black chairs.\n",
            "- Window on left wall.\n",
            "- Adjacent balcony doors.\n",
            "\n",
            "Conclusion: This matches the room description. Correct room located.\n"
          ]
        }
      ],
      "source": [
        "# location classificaiton:\n",
        "\n",
        "# chatgpt, do you think you are in the correct room based on human_room_description + human_room description_clarified? (maybe rotate 360 degrees, but also have to analyze 4 images then)\n",
        "\n",
        "room_classifcation = analyze_image(\n",
        "    base64_string,\n",
        "    api_key=api_key,\n",
        "    prompt=f\"Imagine you are a robot looking for a certain room. Describe the room shortly. Do you think you are in the correct room based on the following description? Description: {human_room_description}, even further description: {human_room_description_clarified}, speak to me as if you have the robots point of view. Be consise in your answer.\",\n",
        ")\n",
        "utterance = room_classifcation[0][\"choices\"][0][\"message\"][\"content\"]\n",
        "print(AGENT + \">\" + utterance)\n",
        "leolaniClient._add_utterance(AGENT, utterance)"
      ]
    },
    {
      "cell_type": "code",
      "execution_count": 28,
      "metadata": {
        "id": "MDi2HoalY6WO"
      },
      "outputs": [],
      "source": []
    },
    {
      "cell_type": "code",
      "execution_count": 29,
      "metadata": {
        "id": "lGqRzS5sgBpQ"
      },
      "outputs": [],
      "source": [
        "# TO DO: Decide what to do: teleport to another room, teleport to object instance (if there is one) or lookleft/lookright etc\n",
        "def find_all_object_positions(controller, object_type, num_rotations=3):\n",
        "    \"\"\"\n",
        "    Finds the positions of all objects of a specific type by rotating the agent.\n",
        "\n",
        "    Args:\n",
        "      controller: The AI2Thor controller.\n",
        "      object_type: The type of object to find (e.g., \"Painting\", \"Chair\", \"Table\").\n",
        "      num_rotations: The number of times to rotate the agent to scan for objects.\n",
        "\n",
        "    Returns:\n",
        "      A list of positions for the specified object type.\n",
        "    \"\"\"\n",
        "    all_object_positions = []  # To store all object positions\n",
        "\n",
        "    for _ in range(num_rotations):  # Rotate specified number of times\n",
        "        # Get visible objects and their positions\n",
        "        visible_objects = [\n",
        "            obj for obj in controller.last_event.metadata[\"objects\"] if obj[\"visible\"]\n",
        "        ]\n",
        "        objects_of_interest = [\n",
        "            obj for obj in visible_objects if obj[\"objectType\"] == object_type\n",
        "        ]\n",
        "        current_object_positions = []\n",
        "        for obj in objects_of_interest:\n",
        "            print(obj[\"name\"], obj[\"position\"])  # Optional: Print object details\n",
        "            current_object_positions.append(obj[\"position\"])\n",
        "\n",
        "        # Add current object positions to the overall list\n",
        "        all_object_positions.extend(current_object_positions)\n",
        "\n",
        "        # Rotate the agent\n",
        "        controller.step(\"RotateRight\")\n",
        "\n",
        "    return all_object_positions\n"
      ]
    },
    {
      "cell_type": "code",
      "execution_count": 30,
      "metadata": {
        "colab": {
          "base_uri": "https://localhost:8080/"
        },
        "id": "Q6zxeCqCOvrv",
        "outputId": "1482d2c4-3cac-40c7-d1ef-6ca9bb8bdc73"
      },
      "outputs": [
        {
          "output_type": "stream",
          "name": "stdout",
          "text": [
            "Painting|3|6 {'x': 5.0281662940979, 'y': 1.585843563079834, 'z': 7.616852760314941}\n",
            "Painting|2|6 {'x': 8.383004188537598, 'y': 1.8958626985549927, 'z': 2.2807140350341797}\n",
            "Ai2Thor>The painting on the wall is a landscape featuring urban architecture. It depicts a row of buildings, characterized by a grid of windows, under a bright sky. The artwork uses a realistic style, capturing the essence of an urban environment. The composition is well-balanced, with the buildings occupying the middle ground and providing a sense of depth and perspective. The colors are muted, with shades of gray, blue, and beige dominating the palette, suggesting a calm and serene atmosphere.Was this the item you were looking for?\n",
            "Type yes if so...no\n",
            "Human>no\n",
            "Ai2Thor>The painting hanging on the wall is a rectangular piece with a dark frame. It depicts a dramatic landscape with a sweeping vista of hills or possibly mountains under a dynamic sky. The sky shows a gradient of colors, suggesting either sunrise or sunset, with hues of orange, pink, and purple blending harmoniously. \n",
            "\n",
            "The landscape beneath is shadowy, with muted earthy tones—greens and browns suggesting either a forested area or grassy fields. There are no discernible details such as trees or buildings,Was this the item you were looking for?\n",
            "Type yes if so...yes\n",
            "Human>yes\n",
            "Teleport to new room if item isn't found\n"
          ]
        }
      ],
      "source": [
        "# Metadata\n",
        "\n",
        "# i see x instances of matched_object\n",
        "# teleport to matched_object[0]\n",
        "# use chatgpt to describe image\n",
        "# do so until image is found or no instances left\n",
        "\n",
        "# matched_object = \"Painting\" # placeholder\n",
        "\n",
        "#object_positions = get_object_positions(controller, matched_object)\n",
        "object_positions = find_all_object_positions(controller, matched_object)\n",
        "\n",
        "for i in range(len(object_positions)):\n",
        "    position = object_positions[i]\n",
        "    event = teleport_in_front_of_object(controller, position, reachable_positions)\n",
        "\n",
        "    description = analyze_image(\n",
        "        base64_string,\n",
        "        api_key=api_key,\n",
        "        prompt=f\"describe {matched_object} in great detail\",\n",
        "    )\n",
        "    utterance = description[0][\"choices\"][0][\"message\"][\"content\"]\n",
        "\n",
        "    print(AGENT + \">\" + utterance + \"Was this the item you were looking for?\")\n",
        "    leolaniClient._add_utterance(\n",
        "        AGENT, utterance + \"Was this the item you were looking for?\"\n",
        "    )\n",
        "    if input(\"Type yes if so...\") == \"yes\":\n",
        "        print(HUMAN + \">\" + \"yes\")\n",
        "        leolaniClient._add_utterance(HUMAN, \"yes\")\n",
        "        break\n",
        "    else:\n",
        "        print(HUMAN + \">\" + \"no\")\n",
        "        leolaniClient._add_utterance(HUMAN, \"no\")\n",
        "        continue\n",
        "\n",
        "print(\"Teleport to new room if item isn't found\")"
      ]
    },
    {
      "cell_type": "code",
      "source": [
        "print(visited_positions)"
      ],
      "metadata": {
        "id": "MeRF9iGF4zc2",
        "outputId": "6dcd481f-62e9-452c-e9e1-4ed3cae27318",
        "colab": {
          "base_uri": "https://localhost:8080/"
        }
      },
      "execution_count": null,
      "outputs": [
        {
          "output_type": "stream",
          "name": "stdout",
          "text": [
            "[{'x': 6.25, 'y': 0.9009993672370911, 'z': 3.5}, {'x': 7.5, 'y': 0.9009993672370911, 'z': 2.75}, {'x': 0.5, 'y': 0.9009993672370911, 'z': 5.0}]\n"
          ]
        }
      ]
    },
    {
      "cell_type": "code",
      "source": [
        "print(reachable_positions)"
      ],
      "metadata": {
        "id": "nLtctNac5iNl",
        "outputId": "cc6c0df7-564d-49a2-a5c1-b89a557aecf4",
        "colab": {
          "base_uri": "https://localhost:8080/"
        }
      },
      "execution_count": null,
      "outputs": [
        {
          "output_type": "stream",
          "name": "stdout",
          "text": [
            "[{'x': 2.5, 'y': 0.9009997844696045, 'z': 4.75}, {'x': 2.75, 'y': 0.9009997844696045, 'z': 4.75}, {'x': 2.5, 'y': 0.9009997844696045, 'z': 5.0}, {'x': 2.25, 'y': 0.9009997844696045, 'z': 4.75}, {'x': 2.5, 'y': 0.9009997844696045, 'z': 4.5}, {'x': 3.0, 'y': 0.9009997844696045, 'z': 4.75}, {'x': 2.75, 'y': 0.9009997844696045, 'z': 5.0}, {'x': 2.75, 'y': 0.9009997844696045, 'z': 4.5}, {'x': 2.25, 'y': 0.9009997844696045, 'z': 5.0}, {'x': 2.0, 'y': 0.9009997844696045, 'z': 4.75}, {'x': 2.25, 'y': 0.9009997844696045, 'z': 4.5}, {'x': 2.5, 'y': 0.9009997844696045, 'z': 4.25}, {'x': 3.25, 'y': 0.9009997844696045, 'z': 4.75}, {'x': 3.0, 'y': 0.9009997844696045, 'z': 5.0}, {'x': 3.0, 'y': 0.9009997844696045, 'z': 4.5}, {'x': 2.75, 'y': 0.9009997844696045, 'z': 4.25}, {'x': 2.25, 'y': 0.9009997844696045, 'z': 5.25}, {'x': 2.0, 'y': 0.9009997844696045, 'z': 5.0}, {'x': 1.75, 'y': 0.9009997844696045, 'z': 4.75}, {'x': 2.0, 'y': 0.9009997844696045, 'z': 4.5}, {'x': 2.25, 'y': 0.9009997844696045, 'z': 4.25}, {'x': 3.5, 'y': 0.9009997844696045, 'z': 4.75}, {'x': 3.25, 'y': 0.9009997844696045, 'z': 5.0}, {'x': 3.25, 'y': 0.9009997844696045, 'z': 4.5}, {'x': 3.0, 'y': 0.9009997844696045, 'z': 5.25}, {'x': 3.0, 'y': 0.9009997844696045, 'z': 4.25}, {'x': 2.0, 'y': 0.9009997844696045, 'z': 5.25}, {'x': 1.75, 'y': 0.9009997844696045, 'z': 5.0}, {'x': 1.5, 'y': 0.9009997844696045, 'z': 4.75}, {'x': 1.75, 'y': 0.9009997844696045, 'z': 4.5}, {'x': 2.0, 'y': 0.9009997844696045, 'z': 4.25}, {'x': 3.75, 'y': 0.9009997844696045, 'z': 4.75}, {'x': 3.5, 'y': 0.9009997844696045, 'z': 5.0}, {'x': 3.5, 'y': 0.9009997844696045, 'z': 4.5}, {'x': 3.25, 'y': 0.9009997844696045, 'z': 5.25}, {'x': 3.25, 'y': 0.9009997844696045, 'z': 4.25}, {'x': 3.0, 'y': 0.9009997844696045, 'z': 5.5}, {'x': 2.0, 'y': 0.9009997844696045, 'z': 5.5}, {'x': 1.75, 'y': 0.9009997844696045, 'z': 5.25}, {'x': 1.5, 'y': 0.9009997844696045, 'z': 5.0}, {'x': 1.25, 'y': 0.9009997844696045, 'z': 4.75}, {'x': 1.5, 'y': 0.9009997844696045, 'z': 4.5}, {'x': 1.75, 'y': 0.9009997844696045, 'z': 4.25}, {'x': 4.0, 'y': 0.9009997844696045, 'z': 4.75}, {'x': 3.75, 'y': 0.9009997844696045, 'z': 5.0}, {'x': 3.75, 'y': 0.9009997844696045, 'z': 4.5}, {'x': 3.5, 'y': 0.9009997844696045, 'z': 5.25}, {'x': 3.5, 'y': 0.9009997844696045, 'z': 4.25}, {'x': 3.25, 'y': 0.9009997844696045, 'z': 5.5}, {'x': 1.75, 'y': 0.9009997844696045, 'z': 5.5}, {'x': 1.5, 'y': 0.9009997844696045, 'z': 5.25}, {'x': 1.25, 'y': 0.9009997844696045, 'z': 5.0}, {'x': 1.0, 'y': 0.9009997844696045, 'z': 4.75}, {'x': 1.25, 'y': 0.9009997844696045, 'z': 4.5}, {'x': 1.5, 'y': 0.9009997844696045, 'z': 4.25}, {'x': 4.25, 'y': 0.9009997844696045, 'z': 4.75}, {'x': 4.0, 'y': 0.9009997844696045, 'z': 5.0}, {'x': 4.0, 'y': 0.9009997844696045, 'z': 4.5}, {'x': 3.75, 'y': 0.9009997844696045, 'z': 5.25}, {'x': 3.75, 'y': 0.9009997844696045, 'z': 4.25}, {'x': 3.5, 'y': 0.9009997844696045, 'z': 5.5}, {'x': 3.5, 'y': 0.9009997844696045, 'z': 4.0}, {'x': 1.75, 'y': 0.9009997844696045, 'z': 5.75}, {'x': 1.5, 'y': 0.9009997844696045, 'z': 5.5}, {'x': 1.25, 'y': 0.9009997844696045, 'z': 5.25}, {'x': 1.0, 'y': 0.9009997844696045, 'z': 5.0}, {'x': 0.75, 'y': 0.9009997844696045, 'z': 4.75}, {'x': 1.0, 'y': 0.9009997844696045, 'z': 4.5}, {'x': 1.25, 'y': 0.9009997844696045, 'z': 4.25}, {'x': 4.5, 'y': 0.9009997844696045, 'z': 4.75}, {'x': 4.25, 'y': 0.9009997844696045, 'z': 5.0}, {'x': 4.25, 'y': 0.9009997844696045, 'z': 4.5}, {'x': 4.0, 'y': 0.9009997844696045, 'z': 5.25}, {'x': 4.0, 'y': 0.9009997844696045, 'z': 4.25}, {'x': 3.75, 'y': 0.9009997844696045, 'z': 5.5}, {'x': 3.75, 'y': 0.9009997844696045, 'z': 4.0}, {'x': 1.5, 'y': 0.9009997844696045, 'z': 5.75}, {'x': 1.25, 'y': 0.9009997844696045, 'z': 5.5}, {'x': 1.0, 'y': 0.9009997844696045, 'z': 5.25}, {'x': 0.75, 'y': 0.9009997844696045, 'z': 5.0}, {'x': 0.5, 'y': 0.9009997844696045, 'z': 4.75}, {'x': 0.75, 'y': 0.9009997844696045, 'z': 4.5}, {'x': 1.0, 'y': 0.9009997844696045, 'z': 4.25}, {'x': 4.75, 'y': 0.9009997844696045, 'z': 4.75}, {'x': 4.5, 'y': 0.9009997844696045, 'z': 5.0}, {'x': 4.5, 'y': 0.9009997844696045, 'z': 4.5}, {'x': 4.25, 'y': 0.9009997844696045, 'z': 5.25}, {'x': 4.25, 'y': 0.9009997844696045, 'z': 4.25}, {'x': 4.0, 'y': 0.9009997844696045, 'z': 5.5}, {'x': 4.0, 'y': 0.9009997844696045, 'z': 4.0}, {'x': 3.75, 'y': 0.9009997844696045, 'z': 3.75}, {'x': 1.25, 'y': 0.9009997844696045, 'z': 5.75}, {'x': 1.0, 'y': 0.9009997844696045, 'z': 5.5}, {'x': 0.75, 'y': 0.9009997844696045, 'z': 5.25}, {'x': 0.5, 'y': 0.9009997844696045, 'z': 5.0}, {'x': 0.25, 'y': 0.9009997844696045, 'z': 4.75}, {'x': 0.5, 'y': 0.9009997844696045, 'z': 4.5}, {'x': 0.75, 'y': 0.9009997844696045, 'z': 4.25}, {'x': 4.75, 'y': 0.9009997844696045, 'z': 5.0}, {'x': 4.75, 'y': 0.9009997844696045, 'z': 4.5}, {'x': 4.5, 'y': 0.9009997844696045, 'z': 5.25}, {'x': 4.5, 'y': 0.9009997844696045, 'z': 4.25}, {'x': 4.25, 'y': 0.9009997844696045, 'z': 5.5}, {'x': 4.25, 'y': 0.9009997844696045, 'z': 4.0}, {'x': 4.0, 'y': 0.9009997844696045, 'z': 3.75}, {'x': 3.75, 'y': 0.9009997844696045, 'z': 3.5}, {'x': 1.25, 'y': 0.9009997844696045, 'z': 6.0}, {'x': 1.0, 'y': 0.9009997844696045, 'z': 5.75}, {'x': 0.75, 'y': 0.9009997844696045, 'z': 5.5}, {'x': 0.5, 'y': 0.9009997844696045, 'z': 5.25}, {'x': 0.25, 'y': 0.9009997844696045, 'z': 5.0}, {'x': 0.25, 'y': 0.9009997844696045, 'z': 4.5}, {'x': 0.5, 'y': 0.9009997844696045, 'z': 4.25}, {'x': 4.75, 'y': 0.9009997844696045, 'z': 5.25}, {'x': 4.75, 'y': 0.9009997844696045, 'z': 4.25}, {'x': 4.5, 'y': 0.9009997844696045, 'z': 5.5}, {'x': 4.5, 'y': 0.9009997844696045, 'z': 4.0}, {'x': 4.25, 'y': 0.9009997844696045, 'z': 5.75}, {'x': 4.25, 'y': 0.9009997844696045, 'z': 3.75}, {'x': 4.0, 'y': 0.9009997844696045, 'z': 3.5}, {'x': 3.75, 'y': 0.9009997844696045, 'z': 3.25}, {'x': 1.25, 'y': 0.9009997844696045, 'z': 6.25}, {'x': 1.0, 'y': 0.9009997844696045, 'z': 6.0}, {'x': 0.75, 'y': 0.9009997844696045, 'z': 5.75}, {'x': 0.5, 'y': 0.9009997844696045, 'z': 5.5}, {'x': 0.25, 'y': 0.9009997844696045, 'z': 5.25}, {'x': 0.25, 'y': 0.9009997844696045, 'z': 4.25}, {'x': 0.5, 'y': 0.9009997844696045, 'z': 4.0}, {'x': 4.75, 'y': 0.9009997844696045, 'z': 5.5}, {'x': 4.75, 'y': 0.9009997844696045, 'z': 4.0}, {'x': 4.5, 'y': 0.9009997844696045, 'z': 5.75}, {'x': 4.5, 'y': 0.9009997844696045, 'z': 3.75}, {'x': 4.25, 'y': 0.9009997844696045, 'z': 3.5}, {'x': 3.75, 'y': 0.9009997844696045, 'z': 3.0}, {'x': 1.25, 'y': 0.9009997844696045, 'z': 6.5}, {'x': 1.0, 'y': 0.9009997844696045, 'z': 6.25}, {'x': 0.75, 'y': 0.9009997844696045, 'z': 6.0}, {'x': 0.5, 'y': 0.9009997844696045, 'z': 5.75}, {'x': 0.25, 'y': 0.9009997844696045, 'z': 5.5}, {'x': 0.25, 'y': 0.9009997844696045, 'z': 4.0}, {'x': 0.5, 'y': 0.9009997844696045, 'z': 3.75}, {'x': 4.75, 'y': 0.9009997844696045, 'z': 5.75}, {'x': 4.75, 'y': 0.9009997844696045, 'z': 3.75}, {'x': 4.5, 'y': 0.9009997844696045, 'z': 6.0}, {'x': 4.5, 'y': 0.9009997844696045, 'z': 3.5}, {'x': 3.75, 'y': 0.9009997844696045, 'z': 2.75}, {'x': 1.5, 'y': 0.9009997844696045, 'z': 6.5}, {'x': 1.25, 'y': 0.9009997844696045, 'z': 6.75}, {'x': 1.0, 'y': 0.9009997844696045, 'z': 6.5}, {'x': 0.75, 'y': 0.9009997844696045, 'z': 6.25}, {'x': 0.5, 'y': 0.9009997844696045, 'z': 6.0}, {'x': 0.25, 'y': 0.9009997844696045, 'z': 3.75}, {'x': 0.5, 'y': 0.9009997844696045, 'z': 3.5}, {'x': 4.75, 'y': 0.9009997844696045, 'z': 6.0}, {'x': 5.0, 'y': 0.9009997844696045, 'z': 3.75}, {'x': 4.75, 'y': 0.9009997844696045, 'z': 3.5}, {'x': 4.0, 'y': 0.9009997844696045, 'z': 2.75}, {'x': 3.75, 'y': 0.9009997844696045, 'z': 2.5}, {'x': 1.5, 'y': 0.9009997844696045, 'z': 6.75}, {'x': 1.25, 'y': 0.9009997844696045, 'z': 7.0}, {'x': 1.0, 'y': 0.9009997844696045, 'z': 6.75}, {'x': 0.75, 'y': 0.9009997844696045, 'z': 6.5}, {'x': 0.5, 'y': 0.9009997844696045, 'z': 6.25}, {'x': 0.25, 'y': 0.9009997844696045, 'z': 3.5}, {'x': 0.5, 'y': 0.9009997844696045, 'z': 3.25}, {'x': 4.75, 'y': 0.9009997844696045, 'z': 6.25}, {'x': 5.25, 'y': 0.9009997844696045, 'z': 3.75}, {'x': 5.0, 'y': 0.9009997844696045, 'z': 3.5}, {'x': 4.25, 'y': 0.9009997844696045, 'z': 2.75}, {'x': 4.0, 'y': 0.9009997844696045, 'z': 2.5}, {'x': 3.5, 'y': 0.9009997844696045, 'z': 2.5}, {'x': 3.75, 'y': 0.9009997844696045, 'z': 2.25}, {'x': 1.75, 'y': 0.9009997844696045, 'z': 6.75}, {'x': 1.5, 'y': 0.9009997844696045, 'z': 7.0}, {'x': 1.25, 'y': 0.9009997844696045, 'z': 7.25}, {'x': 1.0, 'y': 0.9009997844696045, 'z': 7.0}, {'x': 0.75, 'y': 0.9009997844696045, 'z': 6.75}, {'x': 0.5, 'y': 0.9009997844696045, 'z': 6.5}, {'x': 0.25, 'y': 0.9009997844696045, 'z': 3.25}, {'x': 0.5, 'y': 0.9009997844696045, 'z': 3.0}, {'x': 4.75, 'y': 0.9009997844696045, 'z': 6.5}, {'x': 5.5, 'y': 0.9009997844696045, 'z': 3.75}, {'x': 5.25, 'y': 0.9009997844696045, 'z': 4.0}, {'x': 5.25, 'y': 0.9009997844696045, 'z': 3.5}, {'x': 4.5, 'y': 0.9009997844696045, 'z': 2.75}, {'x': 4.25, 'y': 0.9009997844696045, 'z': 2.5}, {'x': 4.0, 'y': 0.9009997844696045, 'z': 2.25}, {'x': 3.25, 'y': 0.9009997844696045, 'z': 2.5}, {'x': 3.5, 'y': 0.9009997844696045, 'z': 2.25}, {'x': 3.75, 'y': 0.9009997844696045, 'z': 2.0}, {'x': 1.75, 'y': 0.9009997844696045, 'z': 7.0}, {'x': 1.5, 'y': 0.9009997844696045, 'z': 7.25}, {'x': 1.25, 'y': 0.9009997844696045, 'z': 7.5}, {'x': 1.0, 'y': 0.9009997844696045, 'z': 7.25}, {'x': 0.75, 'y': 0.9009997844696045, 'z': 7.0}, {'x': 0.5, 'y': 0.9009997844696045, 'z': 6.75}, {'x': 0.25, 'y': 0.9009997844696045, 'z': 3.0}, {'x': 0.5, 'y': 0.9009997844696045, 'z': 2.75}, {'x': 4.75, 'y': 0.9009997844696045, 'z': 6.75}, {'x': 4.5, 'y': 0.9009997844696045, 'z': 6.5}, {'x': 5.75, 'y': 0.9009997844696045, 'z': 3.75}, {'x': 5.5, 'y': 0.9009997844696045, 'z': 4.0}, {'x': 5.5, 'y': 0.9009997844696045, 'z': 3.5}, {'x': 4.75, 'y': 0.9009997844696045, 'z': 2.75}, {'x': 4.5, 'y': 0.9009997844696045, 'z': 2.5}, {'x': 4.25, 'y': 0.9009997844696045, 'z': 2.25}, {'x': 4.0, 'y': 0.9009997844696045, 'z': 2.0}, {'x': 3.0, 'y': 0.9009997844696045, 'z': 2.5}, {'x': 3.25, 'y': 0.9009997844696045, 'z': 2.25}, {'x': 3.5, 'y': 0.9009997844696045, 'z': 2.0}, {'x': 2.0, 'y': 0.9009997844696045, 'z': 7.0}, {'x': 1.75, 'y': 0.9009997844696045, 'z': 7.25}, {'x': 1.5, 'y': 0.9009997844696045, 'z': 7.5}, {'x': 1.25, 'y': 0.9009997844696045, 'z': 7.75}, {'x': 1.0, 'y': 0.9009997844696045, 'z': 7.5}, {'x': 0.75, 'y': 0.9009997844696045, 'z': 7.25}, {'x': 0.5, 'y': 0.9009997844696045, 'z': 7.0}, {'x': 0.25, 'y': 0.9009997844696045, 'z': 6.75}, {'x': 0.25, 'y': 0.9009997844696045, 'z': 2.75}, {'x': 0.5, 'y': 0.9009997844696045, 'z': 2.5}, {'x': 4.75, 'y': 0.9009997844696045, 'z': 7.0}, {'x': 4.5, 'y': 0.9009997844696045, 'z': 6.75}, {'x': 6.0, 'y': 0.9009997844696045, 'z': 3.75}, {'x': 5.75, 'y': 0.9009997844696045, 'z': 4.0}, {'x': 5.75, 'y': 0.9009997844696045, 'z': 3.5}, {'x': 5.5, 'y': 0.9009997844696045, 'z': 4.25}, {'x': 5.5, 'y': 0.9009997844696045, 'z': 3.25}, {'x': 4.75, 'y': 0.9009997844696045, 'z': 2.5}, {'x': 4.5, 'y': 0.9009997844696045, 'z': 2.25}, {'x': 4.25, 'y': 0.9009997844696045, 'z': 2.0}, {'x': 2.75, 'y': 0.9009997844696045, 'z': 2.5}, {'x': 3.0, 'y': 0.9009997844696045, 'z': 2.25}, {'x': 3.25, 'y': 0.9009997844696045, 'z': 2.0}, {'x': 2.0, 'y': 0.9009997844696045, 'z': 7.25}, {'x': 1.75, 'y': 0.9009997844696045, 'z': 7.5}, {'x': 1.5, 'y': 0.9009997844696045, 'z': 7.75}, {'x': 1.25, 'y': 0.9009997844696045, 'z': 8.0}, {'x': 1.0, 'y': 0.9009997844696045, 'z': 7.75}, {'x': 0.75, 'y': 0.9009997844696045, 'z': 7.5}, {'x': 0.5, 'y': 0.9009997844696045, 'z': 7.25}, {'x': 0.25, 'y': 0.9009997844696045, 'z': 7.0}, {'x': 0.25, 'y': 0.9009997844696045, 'z': 2.5}, {'x': 0.75, 'y': 0.9009997844696045, 'z': 2.5}, {'x': 0.5, 'y': 0.9009997844696045, 'z': 2.25}, {'x': 4.75, 'y': 0.9009997844696045, 'z': 7.25}, {'x': 4.5, 'y': 0.9009997844696045, 'z': 7.0}, {'x': 4.25, 'y': 0.9009997844696045, 'z': 6.75}, {'x': 6.25, 'y': 0.9009997844696045, 'z': 3.75}, {'x': 6.0, 'y': 0.9009997844696045, 'z': 4.0}, {'x': 6.0, 'y': 0.9009997844696045, 'z': 3.5}, {'x': 5.75, 'y': 0.9009997844696045, 'z': 4.25}, {'x': 5.75, 'y': 0.9009997844696045, 'z': 3.25}, {'x': 5.5, 'y': 0.9009997844696045, 'z': 4.5}, {'x': 5.5, 'y': 0.9009997844696045, 'z': 3.0}, {'x': 4.75, 'y': 0.9009997844696045, 'z': 2.25}, {'x': 4.5, 'y': 0.9009997844696045, 'z': 2.0}, {'x': 2.5, 'y': 0.9009997844696045, 'z': 2.5}, {'x': 2.75, 'y': 0.9009997844696045, 'z': 2.25}, {'x': 3.0, 'y': 0.9009997844696045, 'z': 2.0}, {'x': 2.25, 'y': 0.9009997844696045, 'z': 7.25}, {'x': 2.0, 'y': 0.9009997844696045, 'z': 7.5}, {'x': 1.75, 'y': 0.9009997844696045, 'z': 7.75}, {'x': 1.5, 'y': 0.9009997844696045, 'z': 8.0}, {'x': 1.0, 'y': 0.9009997844696045, 'z': 8.0}, {'x': 0.75, 'y': 0.9009997844696045, 'z': 7.75}, {'x': 0.5, 'y': 0.9009997844696045, 'z': 7.5}, {'x': 0.25, 'y': 0.9009997844696045, 'z': 7.25}, {'x': 0.25, 'y': 0.9009997844696045, 'z': 2.25}, {'x': 1.0, 'y': 0.9009997844696045, 'z': 2.5}, {'x': 0.75, 'y': 0.9009997844696045, 'z': 2.25}, {'x': 0.5, 'y': 0.9009997844696045, 'z': 2.0}, {'x': 4.75, 'y': 0.9009997844696045, 'z': 7.5}, {'x': 4.5, 'y': 0.9009997844696045, 'z': 7.25}, {'x': 4.25, 'y': 0.9009997844696045, 'z': 7.0}, {'x': 6.5, 'y': 0.9009997844696045, 'z': 3.75}, {'x': 6.25, 'y': 0.9009997844696045, 'z': 4.0}, {'x': 6.25, 'y': 0.9009997844696045, 'z': 3.5}, {'x': 6.0, 'y': 0.9009997844696045, 'z': 4.25}, {'x': 6.0, 'y': 0.9009997844696045, 'z': 3.25}, {'x': 5.75, 'y': 0.9009997844696045, 'z': 4.5}, {'x': 5.75, 'y': 0.9009997844696045, 'z': 3.0}, {'x': 5.25, 'y': 0.9009997844696045, 'z': 4.5}, {'x': 5.5, 'y': 0.9009997844696045, 'z': 2.75}, {'x': 4.75, 'y': 0.9009997844696045, 'z': 2.0}, {'x': 2.25, 'y': 0.9009997844696045, 'z': 2.5}, {'x': 2.5, 'y': 0.9009997844696045, 'z': 2.25}, {'x': 2.75, 'y': 0.9009997844696045, 'z': 2.0}, {'x': 3.0, 'y': 0.9009997844696045, 'z': 1.75}, {'x': 2.25, 'y': 0.9009997844696045, 'z': 7.5}, {'x': 2.0, 'y': 0.9009997844696045, 'z': 7.75}, {'x': 1.75, 'y': 0.9009997844696045, 'z': 8.0}, {'x': 0.75, 'y': 0.9009997844696045, 'z': 8.0}, {'x': 0.5, 'y': 0.9009997844696045, 'z': 7.75}, {'x': 0.25, 'y': 0.9009997844696045, 'z': 7.5}, {'x': 1.25, 'y': 0.9009997844696045, 'z': 2.5}, {'x': 1.0, 'y': 0.9009997844696045, 'z': 2.25}, {'x': 0.75, 'y': 0.9009997844696045, 'z': 2.0}, {'x': 0.5, 'y': 0.9009997844696045, 'z': 1.75}, {'x': 4.75, 'y': 0.9009997844696045, 'z': 7.75}, {'x': 4.5, 'y': 0.9009997844696045, 'z': 7.5}, {'x': 4.25, 'y': 0.9009997844696045, 'z': 7.25}, {'x': 4.0, 'y': 0.9009997844696045, 'z': 7.0}, {'x': 6.75, 'y': 0.9009997844696045, 'z': 3.75}, {'x': 6.5, 'y': 0.9009997844696045, 'z': 4.0}, {'x': 6.5, 'y': 0.9009997844696045, 'z': 3.5}, {'x': 6.25, 'y': 0.9009997844696045, 'z': 4.25}, {'x': 6.25, 'y': 0.9009997844696045, 'z': 3.25}, {'x': 6.0, 'y': 0.9009997844696045, 'z': 4.5}, {'x': 6.0, 'y': 0.9009997844696045, 'z': 3.0}, {'x': 5.75, 'y': 0.9009997844696045, 'z': 2.75}, {'x': 5.5, 'y': 0.9009997844696045, 'z': 2.5}, {'x': 2.0, 'y': 0.9009997844696045, 'z': 2.5}, {'x': 2.25, 'y': 0.9009997844696045, 'z': 2.25}, {'x': 2.5, 'y': 0.9009997844696045, 'z': 2.0}, {'x': 2.75, 'y': 0.9009997844696045, 'z': 1.75}, {'x': 3.0, 'y': 0.9009997844696045, 'z': 1.5}, {'x': 2.5, 'y': 0.9009997844696045, 'z': 7.5}, {'x': 2.25, 'y': 0.9009997844696045, 'z': 7.75}, {'x': 2.0, 'y': 0.9009997844696045, 'z': 8.0}, {'x': 0.5, 'y': 0.9009997844696045, 'z': 8.0}, {'x': 0.25, 'y': 0.9009997844696045, 'z': 7.75}, {'x': 1.5, 'y': 0.9009997844696045, 'z': 2.5}, {'x': 1.25, 'y': 0.9009997844696045, 'z': 2.25}, {'x': 1.0, 'y': 0.9009997844696045, 'z': 2.0}, {'x': 0.75, 'y': 0.9009997844696045, 'z': 1.75}, {'x': 0.5, 'y': 0.9009997844696045, 'z': 1.5}, {'x': 4.75, 'y': 0.9009997844696045, 'z': 8.0}, {'x': 4.5, 'y': 0.9009997844696045, 'z': 7.75}, {'x': 4.25, 'y': 0.9009997844696045, 'z': 7.5}, {'x': 4.0, 'y': 0.9009997844696045, 'z': 7.25}, {'x': 7.0, 'y': 0.9009997844696045, 'z': 3.75}, {'x': 6.75, 'y': 0.9009997844696045, 'z': 4.0}, {'x': 6.75, 'y': 0.9009997844696045, 'z': 3.5}, {'x': 6.5, 'y': 0.9009997844696045, 'z': 4.25}, {'x': 6.5, 'y': 0.9009997844696045, 'z': 3.25}, {'x': 6.25, 'y': 0.9009997844696045, 'z': 4.5}, {'x': 6.25, 'y': 0.9009997844696045, 'z': 3.0}, {'x': 6.0, 'y': 0.9009997844696045, 'z': 2.75}, {'x': 5.75, 'y': 0.9009997844696045, 'z': 2.5}, {'x': 5.5, 'y': 0.9009997844696045, 'z': 2.25}, {'x': 1.75, 'y': 0.9009997844696045, 'z': 2.5}, {'x': 2.0, 'y': 0.9009997844696045, 'z': 2.25}, {'x': 2.25, 'y': 0.9009997844696045, 'z': 2.0}, {'x': 2.5, 'y': 0.9009997844696045, 'z': 1.75}, {'x': 2.75, 'y': 0.9009997844696045, 'z': 1.5}, {'x': 3.0, 'y': 0.9009997844696045, 'z': 1.25}, {'x': 2.75, 'y': 0.9009997844696045, 'z': 7.5}, {'x': 2.5, 'y': 0.9009997844696045, 'z': 7.75}, {'x': 2.25, 'y': 0.9009997844696045, 'z': 8.0}, {'x': 0.25, 'y': 0.9009997844696045, 'z': 8.0}, {'x': 1.5, 'y': 0.9009997844696045, 'z': 2.25}, {'x': 1.25, 'y': 0.9009997844696045, 'z': 2.0}, {'x': 1.0, 'y': 0.9009997844696045, 'z': 1.75}, {'x': 0.75, 'y': 0.9009997844696045, 'z': 1.5}, {'x': 0.5, 'y': 0.9009997844696045, 'z': 1.25}, {'x': 4.5, 'y': 0.9009997844696045, 'z': 8.0}, {'x': 4.25, 'y': 0.9009997844696045, 'z': 7.75}, {'x': 4.0, 'y': 0.9009997844696045, 'z': 7.5}, {'x': 3.75, 'y': 0.9009997844696045, 'z': 7.25}, {'x': 7.25, 'y': 0.9009997844696045, 'z': 3.75}, {'x': 7.0, 'y': 0.9009997844696045, 'z': 4.0}, {'x': 7.0, 'y': 0.9009997844696045, 'z': 3.5}, {'x': 6.75, 'y': 0.9009997844696045, 'z': 4.25}, {'x': 6.75, 'y': 0.9009997844696045, 'z': 3.25}, {'x': 6.5, 'y': 0.9009997844696045, 'z': 4.5}, {'x': 6.5, 'y': 0.9009997844696045, 'z': 3.0}, {'x': 6.25, 'y': 0.9009997844696045, 'z': 2.75}, {'x': 6.0, 'y': 0.9009997844696045, 'z': 2.5}, {'x': 5.5, 'y': 0.9009997844696045, 'z': 2.0}, {'x': 1.75, 'y': 0.9009997844696045, 'z': 2.25}, {'x': 2.0, 'y': 0.9009997844696045, 'z': 2.0}, {'x': 2.25, 'y': 0.9009997844696045, 'z': 1.75}, {'x': 2.5, 'y': 0.9009997844696045, 'z': 1.5}, {'x': 2.75, 'y': 0.9009997844696045, 'z': 1.25}, {'x': 3.0, 'y': 0.9009997844696045, 'z': 1.0}, {'x': 3.0, 'y': 0.9009997844696045, 'z': 7.5}, {'x': 2.75, 'y': 0.9009997844696045, 'z': 7.75}, {'x': 2.5, 'y': 0.9009997844696045, 'z': 8.0}, {'x': 1.5, 'y': 0.9009997844696045, 'z': 2.0}, {'x': 1.25, 'y': 0.9009997844696045, 'z': 1.75}, {'x': 1.0, 'y': 0.9009997844696045, 'z': 1.5}, {'x': 0.75, 'y': 0.9009997844696045, 'z': 1.25}, {'x': 0.5, 'y': 0.9009997844696045, 'z': 1.0}, {'x': 4.25, 'y': 0.9009997844696045, 'z': 8.0}, {'x': 4.0, 'y': 0.9009997844696045, 'z': 7.75}, {'x': 3.75, 'y': 0.9009997844696045, 'z': 7.5}, {'x': 7.5, 'y': 0.9009997844696045, 'z': 3.75}, {'x': 7.25, 'y': 0.9009997844696045, 'z': 4.0}, {'x': 7.25, 'y': 0.9009997844696045, 'z': 3.5}, {'x': 7.0, 'y': 0.9009997844696045, 'z': 4.25}, {'x': 7.0, 'y': 0.9009997844696045, 'z': 3.25}, {'x': 6.75, 'y': 0.9009997844696045, 'z': 4.5}, {'x': 6.75, 'y': 0.9009997844696045, 'z': 3.0}, {'x': 6.5, 'y': 0.9009997844696045, 'z': 2.75}, {'x': 6.25, 'y': 0.9009997844696045, 'z': 2.5}, {'x': 1.75, 'y': 0.9009997844696045, 'z': 2.0}, {'x': 2.0, 'y': 0.9009997844696045, 'z': 1.75}, {'x': 2.25, 'y': 0.9009997844696045, 'z': 1.5}, {'x': 2.5, 'y': 0.9009997844696045, 'z': 1.25}, {'x': 2.75, 'y': 0.9009997844696045, 'z': 1.0}, {'x': 3.0, 'y': 0.9009997844696045, 'z': 0.75}, {'x': 3.25, 'y': 0.9009997844696045, 'z': 7.5}, {'x': 3.0, 'y': 0.9009997844696045, 'z': 7.75}, {'x': 3.0, 'y': 0.9009997844696045, 'z': 7.25}, {'x': 2.75, 'y': 0.9009997844696045, 'z': 8.0}, {'x': 1.5, 'y': 0.9009997844696045, 'z': 1.75}, {'x': 1.25, 'y': 0.9009997844696045, 'z': 1.5}, {'x': 1.0, 'y': 0.9009997844696045, 'z': 1.25}, {'x': 0.75, 'y': 0.9009997844696045, 'z': 1.0}, {'x': 0.25, 'y': 0.9009997844696045, 'z': 1.0}, {'x': 0.5, 'y': 0.9009997844696045, 'z': 0.75}, {'x': 4.0, 'y': 0.9009997844696045, 'z': 8.0}, {'x': 3.75, 'y': 0.9009997844696045, 'z': 7.75}, {'x': 3.5, 'y': 0.9009997844696045, 'z': 7.5}, {'x': 7.75, 'y': 0.9009997844696045, 'z': 3.75}, {'x': 7.5, 'y': 0.9009997844696045, 'z': 4.0}, {'x': 7.5, 'y': 0.9009997844696045, 'z': 3.5}, {'x': 7.25, 'y': 0.9009997844696045, 'z': 3.25}, {'x': 7.0, 'y': 0.9009997844696045, 'z': 4.5}, {'x': 7.0, 'y': 0.9009997844696045, 'z': 3.0}, {'x': 6.75, 'y': 0.9009997844696045, 'z': 2.75}, {'x': 1.75, 'y': 0.9009997844696045, 'z': 1.75}, {'x': 2.0, 'y': 0.9009997844696045, 'z': 1.5}, {'x': 2.25, 'y': 0.9009997844696045, 'z': 1.25}, {'x': 2.5, 'y': 0.9009997844696045, 'z': 1.0}, {'x': 3.0, 'y': 0.9009997844696045, 'z': 0.5}, {'x': 3.25, 'y': 0.9009997844696045, 'z': 7.75}, {'x': 3.0, 'y': 0.9009997844696045, 'z': 8.0}, {'x': 1.5, 'y': 0.9009997844696045, 'z': 1.5}, {'x': 1.25, 'y': 0.9009997844696045, 'z': 1.25}, {'x': 1.0, 'y': 0.9009997844696045, 'z': 1.0}, {'x': 0.75, 'y': 0.9009997844696045, 'z': 0.75}, {'x': 0.25, 'y': 0.9009997844696045, 'z': 0.75}, {'x': 3.75, 'y': 0.9009997844696045, 'z': 8.0}, {'x': 3.5, 'y': 0.9009997844696045, 'z': 7.75}, {'x': 8.0, 'y': 0.9009997844696045, 'z': 3.75}, {'x': 7.75, 'y': 0.9009997844696045, 'z': 4.0}, {'x': 7.75, 'y': 0.9009997844696045, 'z': 3.5}, {'x': 7.5, 'y': 0.9009997844696045, 'z': 3.25}, {'x': 7.25, 'y': 0.9009997844696045, 'z': 3.0}, {'x': 7.0, 'y': 0.9009997844696045, 'z': 2.75}, {'x': 1.75, 'y': 0.9009997844696045, 'z': 1.5}, {'x': 2.0, 'y': 0.9009997844696045, 'z': 1.25}, {'x': 2.25, 'y': 0.9009997844696045, 'z': 1.0}, {'x': 3.0, 'y': 0.9009997844696045, 'z': 0.25}, {'x': 3.25, 'y': 0.9009997844696045, 'z': 8.0}, {'x': 1.5, 'y': 0.9009997844696045, 'z': 1.25}, {'x': 1.25, 'y': 0.9009997844696045, 'z': 1.0}, {'x': 1.0, 'y': 0.9009997844696045, 'z': 0.75}, {'x': 0.75, 'y': 0.9009997844696045, 'z': 0.5}, {'x': 3.5, 'y': 0.9009997844696045, 'z': 8.0}, {'x': 8.0, 'y': 0.9009997844696045, 'z': 4.0}, {'x': 7.75, 'y': 0.9009997844696045, 'z': 3.25}, {'x': 7.5, 'y': 0.9009997844696045, 'z': 3.0}, {'x': 7.25, 'y': 0.9009997844696045, 'z': 2.75}, {'x': 1.75, 'y': 0.9009997844696045, 'z': 1.25}, {'x': 2.0, 'y': 0.9009997844696045, 'z': 1.0}, {'x': 1.5, 'y': 0.9009997844696045, 'z': 1.0}, {'x': 1.25, 'y': 0.9009997844696045, 'z': 0.75}, {'x': 1.0, 'y': 0.9009997844696045, 'z': 0.5}, {'x': 0.75, 'y': 0.9009997844696045, 'z': 0.25}, {'x': 7.75, 'y': 0.9009997844696045, 'z': 3.0}, {'x': 7.5, 'y': 0.9009997844696045, 'z': 2.75}, {'x': 1.75, 'y': 0.9009997844696045, 'z': 1.0}, {'x': 1.0, 'y': 0.9009997844696045, 'z': 0.25}, {'x': 7.75, 'y': 0.9009997844696045, 'z': 2.75}, {'x': 8.0, 'y': 0.9009997844696045, 'z': 2.75}]\n"
          ]
        }
      ]
    },
    {
      "cell_type": "code",
      "source": [
        "def euclidean_distance_2d(pos1, pos2):\n",
        "    \"\"\"\n",
        "    Calculate the Euclidean distance between two positions in 2D space (x and z axes).\n",
        "\n",
        "    Args:\n",
        "        pos1 (dict): The first position with 'x' and 'z' coordinates.\n",
        "        pos2 (dict): The second position with 'x' and 'z' coordinates.\n",
        "\n",
        "    Returns:\n",
        "        float: The Euclidean distance between the two positions.\n",
        "    \"\"\"\n",
        "    return math.sqrt((pos1['x'] - pos2['x'])**2 + (pos1['z'] - pos2['z'])**2)"
      ],
      "metadata": {
        "id": "-ug-SXoj57kU"
      },
      "execution_count": null,
      "outputs": []
    },
    {
      "cell_type": "code",
      "source": [
        "def get_farthest_position(reachable_positions, visited_positions):\n",
        "    \"\"\"\n",
        "    Find the reachable position that is farthest from any of the visited positions.\n",
        "\n",
        "    Args:\n",
        "        reachable_positions (list): A list of reachable positions (each position is a dict with 'x', 'y', 'z').\n",
        "        visited_positions (list): A list of positions already visited.\n",
        "\n",
        "    Returns:\n",
        "        dict: The position in reachable_positions that is farthest from visited_positions.\n",
        "    \"\"\"\n",
        "    max_min_distance = -1\n",
        "    farthest_position = None\n",
        "    for position in reachable_positions:\n",
        "        # Compute distances to all visited positions\n",
        "        distances = [euclidean_distance_2d(position, visited_pos) for visited_pos in visited_positions]\n",
        "        # Find the minimum distance to the visited positions\n",
        "        min_distance = min(distances)\n",
        "        # Update if this is the farthest minimum distance found so far\n",
        "        if min_distance > max_min_distance:\n",
        "            max_min_distance = min_distance\n",
        "            farthest_position = position\n",
        "    return farthest_position"
      ],
      "metadata": {
        "id": "Tpmn3AyZ6BdC"
      },
      "execution_count": null,
      "outputs": []
    },
    {
      "cell_type": "code",
      "source": [
        "farthest_position = get_farthest_position(reachable_positions, visited_positions)\n",
        "print(farthest_position)"
      ],
      "metadata": {
        "id": "r1_GMisV6Ixi",
        "outputId": "ecdef1f8-ec43-4bf7-edf6-56601301e642",
        "colab": {
          "base_uri": "https://localhost:8080/"
        }
      },
      "execution_count": null,
      "outputs": [
        {
          "output_type": "stream",
          "name": "stdout",
          "text": [
            "{'x': 4.5, 'y': 0.9009997844696045, 'z': 8.0}\n"
          ]
        }
      ]
    },
    {
      "cell_type": "code",
      "source": [
        "import matplotlib.pyplot as plt\n",
        "\n",
        "# Extract x and z coordinates\n",
        "visited_x = [pos['x'] for pos in visited_positions]\n",
        "visited_z = [pos['z'] for pos in visited_positions]\n",
        "reachable_x = [pos['x'] for pos in reachable_positions]\n",
        "reachable_z = [pos['z'] for pos in reachable_positions]\n",
        "\n",
        "# Plot the positions\n",
        "plt.figure(figsize=(10, 8))\n",
        "plt.scatter(reachable_x, reachable_z, c='blue', label='Reachable Positions')\n",
        "plt.scatter(visited_x, visited_z, c='red', label='Visited Positions')\n",
        "plt.scatter(farthest_position['x'], farthest_position['z'], c='green', label='Farthest Position', s=100)\n",
        "plt.xlabel('X coordinate')\n",
        "plt.ylabel('Z coordinate')\n",
        "plt.title('Positions in the Environment')\n",
        "plt.legend()\n",
        "plt.grid(True)\n",
        "plt.show()"
      ],
      "metadata": {
        "id": "sfOBStJn6fa8",
        "outputId": "b9823cfe-1290-4053-89b2-a434833428d6",
        "colab": {
          "base_uri": "https://localhost:8080/",
          "height": 718
        }
      },
      "execution_count": null,
      "outputs": [
        {
          "output_type": "display_data",
          "data": {
            "text/plain": [
              "<Figure size 1000x800 with 1 Axes>"
            ],
            "image/png": "[encoded data removed]"
          },
          "metadata": {}
        }
      ]
    },
    {
      "cell_type": "code",
      "execution_count": null,
      "metadata": {
        "id": "htVsg7BwQDVN"
      },
      "outputs": [],
      "source": [
        "# TO DO: if no more instances, teleport to new room\n",
        "\n",
        "# Look at the furthest away coordinate compared to the visited coordinates, just take the eucliadian distances of each point."
      ]
    },
    {
      "cell_type": "code",
      "execution_count": null,
      "metadata": {
        "id": "dVLLHlrYMFb5"
      },
      "outputs": [],
      "source": [
        "##### After completion, we save the scenario in the defined emissor folder.\n",
        "leolaniClient._save_scenario()"
      ]
    },
    {
      "cell_type": "markdown",
      "metadata": {
        "id": "lbLveC1jLKvS"
      },
      "source": [
        "# EXAMPLE IMAGES"
      ]
    },
    {
      "cell_type": "markdown",
      "metadata": {
        "id": "IFf51WX4DTwx"
      },
      "source": [
        "RANDOM TELEPORT"
      ]
    },
    {
      "cell_type": "code",
      "execution_count": null,
      "metadata": {
        "id": "UthmJigQDLrk"
      },
      "outputs": [],
      "source": [
        "import random\n",
        "\n",
        "position = random.choice(reachable_positions)\n",
        "rotation = random.choice(range(360))\n",
        "print(\"Teleporting the agent to\", position, \" with rotation\", rotation)\n",
        "\n",
        "event = controller.step(action=\"Teleport\", position=position, rotation=rotation)\n",
        "Image.fromarray(event.frame)"
      ]
    },
    {
      "cell_type": "markdown",
      "metadata": {
        "id": "D40jijBJDYRQ"
      },
      "source": [
        "IMAGE WITH 2 PAINTING"
      ]
    },
    {
      "cell_type": "code",
      "execution_count": null,
      "metadata": {
        "id": "hZsG_wobDZtJ"
      },
      "outputs": [],
      "source": [
        "event = controller.step(\n",
        "    action=\"Teleport\",\n",
        "    position={\"x\": 2.5, \"y\": 0.9009997844696045, \"z\": 4.5},\n",
        "    rotation=80,\n",
        ")\n",
        "Image.fromarray(event.frame)"
      ]
    },
    {
      "cell_type": "markdown",
      "metadata": {
        "id": "WgFX4IJ1DhhQ"
      },
      "source": [
        "#TESTING"
      ]
    },
    {
      "cell_type": "markdown",
      "metadata": {
        "id": "7d42tDqvDvjo"
      },
      "source": [
        "ROTATING AND REMEMBERING OBJECT LOCATIONS"
      ]
    },
    {
      "cell_type": "code",
      "execution_count": null,
      "metadata": {
        "id": "HztOs1ffDkK7"
      },
      "outputs": [],
      "source": [
        "visible_objects = [\n",
        "    obj for obj in controller.last_event.metadata[\"objects\"] if obj[\"visible\"]\n",
        "]\n",
        "paintings = [obj for obj in visible_objects if obj[\"objectType\"] == \"Painting\"]\n",
        "all_painting_positions = []  # To store all painting positions\n",
        "\n",
        "for _ in range(3):  # Rotate three times\n",
        "    # Get visible paintings and their positions\n",
        "    current_painting_positions = []\n",
        "    for painting in paintings:\n",
        "        print(painting[\"name\"], painting[\"position\"])\n",
        "        current_painting_positions.append(painting[\"position\"])\n",
        "\n",
        "    # Add current painting positions to the overall list\n",
        "    all_painting_positions.extend(current_painting_positions)\n",
        "\n",
        "    # Rotate the agent\n",
        "    controller.step(\"RotateRight\")\n",
        "\n",
        "    # Update visible objects and paintings for the next iteration\n",
        "    visible_objects = [\n",
        "        obj for obj in controller.last_event.metadata[\"objects\"] if obj[\"visible\"]\n",
        "    ]\n",
        "    paintings = [obj for obj in visible_objects if obj[\"objectType\"] == \"Painting\"]\n",
        "\n",
        "print(\"All painting positions in the room:\", all_painting_positions)"
      ]
    },
    {
      "cell_type": "markdown",
      "metadata": {
        "id": "qBWGmiSOD6-g"
      },
      "source": [
        "LOOK UP / DOWN"
      ]
    },
    {
      "cell_type": "code",
      "execution_count": null,
      "metadata": {
        "id": "7ebhg0NmD6Ao"
      },
      "outputs": [],
      "source": [
        "# controller.step(\"LookDown\")\n",
        "# Image.fromarray(controller.last_event.frame)\n",
        "\n",
        "# after we take look up or down we should return to the original state, THIS IS IMPORTANT OTHERWISE IT WILL MESS WITH TELEPORTING"
      ]
    }
  ],
  "metadata": {
    "colab": {
      "provenance": []
    },
    "kernelspec": {
      "display_name": "Python (combots-venv-new)",
      "language": "python",
      "name": "combots-venv-new"
    },
    "language_info": {
      "codemirror_mode": {
        "name": "ipython",
        "version": 3
      },
      "file_extension": ".py",
      "mimetype": "text/x-python",
      "name": "python",
      "nbconvert_exporter": "python",
      "pygments_lexer": "ipython3",
      "version": "3.12.7"
    }
  },
  "nbformat": 4,
  "nbformat_minor": 0
}