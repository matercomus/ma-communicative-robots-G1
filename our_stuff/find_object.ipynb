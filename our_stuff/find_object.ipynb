{
  "cells": [
    {
      "cell_type": "code",
      "source": [],
      "metadata": {
        "id": "ButQQJqMB0ZY"
      },
      "id": "ButQQJqMB0ZY",
      "execution_count": null,
      "outputs": []
    },
    {
      "cell_type": "code",
      "execution_count": 1,
      "id": "a5cbd5f4-54bb-4591-96f4-075c55ef1690",
      "metadata": {
        "id": "a5cbd5f4-54bb-4591-96f4-075c55ef1690"
      },
      "outputs": [],
      "source": [
        "import os\n",
        "os.system(\"pip install python-dotenv\")\n",
        "os.system(\"pip install --upgrade ai2thor --quiet\")\n",
        "os.system(\"pip install ai2thor-colab prior --upgrade &> /dev/null\")\n",
        "os.system(\"pip install cltl.combot --break-system-packages\")\n",
        "os.system(\"apt-get install xvfb\")\n",
        "from find_object import main"
      ]
    },
    {
      "cell_type": "code",
      "execution_count": 2,
      "id": "314e3bde-6016-4c7e-a12f-c179c10dace4",
      "metadata": {
        "id": "314e3bde-6016-4c7e-a12f-c179c10dace4",
        "outputId": "658fdb39-51b3-4336-c236-86145ddb3bda",
        "colab": {
          "base_uri": "https://localhost:8080/",
          "height": 1000
        }
      },
      "outputs": [
        {
          "output_type": "display_data",
          "data": {
            "text/plain": [
              "<IPython.core.display.HTML object>"
            ],
            "text/html": [
              "\n",
              "            <progress value='100' max=\"100\", style='width: 100%'>\n",
              "                100\n",
              "            </progress>\n",
              "        "
            ]
          },
          "metadata": {}
        },
        {
          "output_type": "stream",
          "name": "stdout",
          "text": [
            "[AI2-THOR WARNING] There has been an update to ProcTHOR-10K that must be used with AI2-THOR version 5.0+. To use the new version of ProcTHOR-10K, please update AI2-THOR to version 5.0+ by running:\n",
            "    pip install --upgrade ai2thor\n",
            "Alternatively, to downgrade to the old version of ProcTHOR-10K, run:\n",
            "   prior.load_dataset(\"procthor-10k\", revision=\"ab3cacd0fc17754d4c080a3fd50b18395fae8647\")\n"
          ]
        },
        {
          "output_type": "stream",
          "name": "stderr",
          "text": [
            "Loading train: 100%|██████████| 10000/10000 [00:03<00:00, 3118.69it/s]\n",
            "Loading val: 100%|██████████| 1000/1000 [00:00<00:00, 3568.61it/s]\n",
            "Loading test: 100%|██████████| 1000/1000 [00:00<00:00, 3725.66it/s]\n",
            "thor-Linux64-f0825767cd50d69f666c7f282e54abfe58f1e917.zip: [ \u001b[38;2;0;255;0m100%\u001b[39m  15.9 MiB/s]  of 769.MB\n"
          ]
        },
        {
          "output_type": "stream",
          "name": "stdout",
          "text": [
            "Type the agent name...robot\n",
            "Type the human name...floris\n",
            "robot>Hi floris. What do you see in the room? Try to\n",
            "                  describe the spatial relationships between objects.\n",
            "Type the room description...I see a lamp next to a armnchair and a small tablelike thingy\n",
            "floris>I see a lamp next to a armnchair and a small tablelike thingy\n",
            "robot>Thank you for your description! To help me pinpoint your location, can you tell me:\n",
            "\n",
            "1. What color is the lamp?\n",
            "2. What color is the armchair?\n",
            "3. Is the small table-like thingy round or square? \n",
            "4. Are there any other notable objects in the room?\n",
            "Type the clarified room description...i dont know\n",
            "floris>i dont know\n",
            "robot>Describe the object I should look for.\n",
            "Type the object description...floorlamp\n",
            "floris>floorlamp\n",
            "robot>To be sure, would you describe your object as FloorLamp?\n",
            "robot>Is this correct? (yes/no): \n",
            "yes\n",
            "floris>yes\n",
            "robot>Great! Object successfully matched.\n",
            "Teleporting the agent to {'x': 8.5, 'y': 0.9009997844696045, 'z': 0.75}\n",
            "FloorLamp|6|2|1 {'x': 6.999466896057129, 'y': 0.0010923147201538086, 'z': 6.184418678283691}\n",
            "FloorLamp|6|4|1 {'x': 6.875290870666504, 'y': -0.003438115119934082, 'z': 4.352756977081299}\n",
            "closest_position: {'x': 5.0, 'y': 0.9009997844696045, 'z': 4.25} Rotation: 45.94732006132919\n",
            "Teleporting to position: {'x': 5.0, 'y': 0.9009997844696045, 'z': 4.25}, after rotation 45.94732006132919\n",
            "robot>The image does not seem to completely match the description provided. There is no visible armchair, and the lamp is on a table rather than next to it. The setting might be a different view or room that the initial description didn't capture.\n",
            "\n",
            "Here are the distinguishable objects around the FloorLamp:\n",
            "\n",
            "- **Table Lamp**: A small lamp with a light shade, placed on the table.\n",
            "  - *Position*: Directly on top of the table.\n",
            "\n",
            "- **Table**: A simple table with Should I get a closer look at the object surrounded by these objects?\n",
            "Type 'yes' if so, or 'no' to continue: no\n",
            "floris>no\n",
            "closest_position: {'x': 5.0, 'y': 0.9009997844696045, 'z': 2.25} Rotation: 41.72737177828045\n",
            "Teleporting to position: {'x': 5.0, 'y': 0.9009997844696045, 'z': 2.25}, after rotation 41.72737177828045\n",
            "robot>Based on the image, the described scene does not fully match since there is no visible armchair, and the lamp is not identified as a floor lamp. However, the room might still be the same, viewed from a different angle.\n",
            "\n",
            "### Distinguishable Objects Around the Lamp\n",
            "\n",
            "- **Table Lamp**: \n",
            "  - A small, yellow-shaded lamp.\n",
            "  - Positioned on top of a white table.\n",
            "\n",
            "- **Table**:\n",
            "  - Appears to be a simple white table with thin Should I get a closer look at the object surrounded by these objects?\n",
            "Type 'yes' if so, or 'no' to continue: no\n",
            "floris>no\n",
            "Teleporting to a new location to continue the search.\n",
            "Teleporting to position: {'x': 0.5, 'y': 0.9009997844696045, 'z': 8.0}\n",
            "Teleporting to a new location to continue the search.\n",
            "Teleporting to position: {'x': 11.0, 'y': 0.9009997844696045, 'z': 5.75}\n",
            "Teleporting to a new location to continue the search.\n",
            "Teleporting to position: {'x': 5.25, 'y': 0.9009997844696045, 'z': 9.5}\n",
            "Teleporting to a new location to continue the search.\n",
            "Teleporting to position: {'x': 0.25, 'y': 0.9009997844696045, 'z': 3.5}\n",
            "Teleporting to a new location to continue the search.\n",
            "Teleporting to position: {'x': 7.75, 'y': 0.9009997844696045, 'z': 6.25}\n",
            "FloorLamp|6|4|1 {'x': 6.875290870666504, 'y': -0.003438115119934082, 'z': 4.352756977081299}\n",
            "Teleporting to a new location to continue the search.\n",
            "Teleporting to position: {'x': 11.0, 'y': 0.9009997844696045, 'z': 2.5}\n",
            "FloorLamp|6|2|1 {'x': 6.999466896057129, 'y': 0.0010923147201538086, 'z': 6.184418678283691}\n",
            "Teleporting to a new location to continue the search.\n",
            "Teleporting to position: {'x': 2.25, 'y': 0.9009997844696045, 'z': 5.5}\n",
            "Teleporting to a new location to continue the search.\n",
            "Teleporting to position: {'x': 8.0, 'y': 0.9009997844696045, 'z': 3.5}\n",
            "FloorLamp|6|2|1 {'x': 6.999466896057129, 'y': 0.0010923147201538086, 'z': 6.184418678283691}\n",
            "FloorLamp|6|4|1 {'x': 6.875290870666504, 'y': -0.003438115119934082, 'z': 4.352756977081299}\n",
            "Teleporting to a new location to continue the search.\n",
            "Teleporting to position: {'x': 4.5, 'y': 0.9009997844696045, 'z': 7.0}\n",
            "Teleporting to a new location to continue the search.\n",
            "Teleporting to position: {'x': 2.75, 'y': 0.9009997844696045, 'z': 9.25}\n",
            "Teleporting to a new location to continue the search.\n",
            "Teleporting to position: {'x': 3.5, 'y': 0.9009997844696045, 'z': 0.25}\n",
            "Teleporting to a new location to continue the search.\n",
            "Teleporting to position: {'x': 6.25, 'y': 0.9009997844696045, 'z': 0.5}\n",
            "Teleporting to a new location to continue the search.\n",
            "Teleporting to position: {'x': 3.0, 'y': 0.9009997844696045, 'z': 3.5}\n",
            "Teleporting to a new location to continue the search.\n",
            "Teleporting to position: {'x': 9.25, 'y': 0.9009997844696045, 'z': 5.0}\n",
            "Teleporting to a new location to continue the search.\n",
            "Teleporting to position: {'x': 2.25, 'y': 0.9009997844696045, 'z': 7.5}\n",
            "Teleporting to a new location to continue the search.\n",
            "Teleporting to position: {'x': 9.25, 'y': 0.9009997844696045, 'z': 2.25}\n",
            "FloorLamp|6|2|1 {'x': 6.999466896057129, 'y': 0.0010923147201538086, 'z': 6.184418678283691}\n",
            "FloorLamp|6|4|1 {'x': 6.875290870666504, 'y': -0.003438115119934082, 'z': 4.352756977081299}\n",
            "Teleporting to a new location to continue the search.\n",
            "Teleporting to position: {'x': 6.25, 'y': 0.9009997844696045, 'z': 5.25}\n",
            "Teleporting to a new location to continue the search.\n",
            "Teleporting to position: {'x': 7.25, 'y': 0.9009997844696045, 'z': 1.75}\n",
            "Teleporting to a new location to continue the search.\n",
            "Teleporting to position: {'x': 4.0, 'y': 0.9009997844696045, 'z': 5.5}\n",
            "Teleporting to a new location to continue the search.\n",
            "Teleporting to position: {'x': 1.0, 'y': 0.9009997844696045, 'z': 6.5}\n",
            "Teleporting to a new location to continue the search.\n",
            "Teleporting to position: {'x': 3.5, 'y': 0.9009997844696045, 'z': 2.0}\n",
            "Teleporting to a new location to continue the search.\n",
            "Teleporting to position: {'x': 1.0, 'y': 0.9009997844696045, 'z': 4.75}\n",
            "Teleporting to a new location to continue the search.\n",
            "Teleporting to position: {'x': 4.0, 'y': 0.9009997844696045, 'z': 8.5}\n",
            "Teleporting to a new location to continue the search.\n",
            "Teleporting to position: {'x': 5.75, 'y': 0.9009997844696045, 'z': 7.75}\n",
            "Teleporting to a new location to continue the search.\n",
            "Teleporting to position: {'x': 6.25, 'y': 0.9009997844696045, 'z': 2.75}\n",
            "robot>I have reached the maximum number of teleports (25) but couldn't find any FloorLamp.\n",
            "Object not found after searching all locations.\n"
          ]
        }
      ],
      "source": [
        "main()"
      ]
    },
    {
      "cell_type": "markdown",
      "source": [
        "-to-do:\n",
        "- prevent teleport in front of objct to teleport through walls.\n",
        "\n",
        "Optional solutions:\n",
        "- Prevent teleporting trough walls by looking at the relative position of the object compared to the robot position and setting the Max X and Z of the position we teleport in front of.\n",
        "\n",
        "- Teleport to the closest position., 360, see if the object is still in visibility. If not teleport to another close position. If yes describe.\n",
        "\n",
        "\n",
        "- To - do:\n",
        "implement 2nd search if we went through all 25 furthest teleports. 2nd search should only use the teleport far away and teleport close for the objects of interest. And maybe ask in a diffferent way."
      ],
      "metadata": {
        "id": "9cEBt78vGhJG"
      },
      "id": "9cEBt78vGhJG"
    },
    {
      "cell_type": "code",
      "execution_count": 2,
      "id": "32891a63-b2c3-4917-afde-096993af44d8",
      "metadata": {
        "id": "32891a63-b2c3-4917-afde-096993af44d8"
      },
      "outputs": [],
      "source": []
    }
  ],
  "metadata": {
    "kernelspec": {
      "display_name": "Python (combots-venv-new)",
      "language": "python",
      "name": "combots-venv-new"
    },
    "language_info": {
      "codemirror_mode": {
        "name": "ipython",
        "version": 3
      },
      "file_extension": ".py",
      "mimetype": "text/x-python",
      "name": "python",
      "nbconvert_exporter": "python",
      "pygments_lexer": "ipython3",
      "version": "3.12.7"
    },
    "colab": {
      "provenance": []
    }
  },
  "nbformat": 4,
  "nbformat_minor": 5
}